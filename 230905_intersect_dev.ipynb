{
 "cells": [
  {
   "cell_type": "code",
   "execution_count": 247,
   "id": "171e3226-24fd-4bce-84c1-d33d5e3708a1",
   "metadata": {},
   "outputs": [],
   "source": [
    "import pandas as pd\n",
    "import pdb\n",
    "import numpy as np\n",
    "import itertools\n",
    "from utils import *\n",
    "from snakemake.io import expand\n",
    "import yaml\n",
    "import cerberus\n",
    "import pyranges as pr\n",
    "import upsetplot\n",
    "import matplotlib.pyplot as plt\n",
    "import itertools\n",
    "import seaborn as sns"
   ]
  },
  {
   "cell_type": "code",
   "execution_count": 342,
   "id": "ec6887ba-a1f9-4b92-82c3-c72067a3d6f5",
   "metadata": {},
   "outputs": [],
   "source": [
    "config_file = 'workflow/config.yml'\n",
    "with open(config_file) as f:\n",
    "    config = yaml.safe_load(f)"
   ]
  },
  {
   "cell_type": "code",
   "execution_count": 343,
   "id": "6f30b389-db2c-4752-bcf3-b6662691cb93",
   "metadata": {},
   "outputs": [],
   "source": [
    "species = 'human'\n",
    "\n",
    "ca_h5 = expand(config['lr']['ca'], species=species)[0]\n",
    "gtf_file = expand(config['ref']['gtf'], species=species)[0]\n",
    "\n",
    "files_a_name = 'cCRE'\n",
    "files_a = expand(config['ccre']['bed_format'],\n",
    "                       species='human',\n",
    "                  ccre_type=['pls', 'pels', 'dels'])\n",
    "                     # ccre_type='pls')\n",
    "\n",
    "files_b_name = 'ProCap'\n",
    "files_b = expand(config['procap']['bed_format'],\n",
    "                     pc_biosamp='k562',\n",
    "                     pc_rep=[str(i) for i in range(1,7)],\n",
    "                     pc_output=['bidirectional_peaks', 'unidirectional_peaks'],\n",
    "                     species=species)\n",
    "files_c_name = 'LR'\n",
    "files_c = expand(config['lr']['bed_format'],\n",
    "                     lr_biosamp='k562',\n",
    "                     lr_rep=['1', '2', '3'],\n",
    "                     species=species)\n",
    "\n",
    "                       # ccre_type=['pls', 'dels', 'pels'])\n"
   ]
  },
  {
   "cell_type": "code",
   "execution_count": 387,
   "id": "9fcbf70b-da38-450d-9b33-dda14679aca2",
   "metadata": {},
   "outputs": [],
   "source": [
    "def get_biotype_map():\n",
    "    \"\"\"\n",
    "    Get a dictionary mapping each gene type to a more general biotype\n",
    "    \"\"\"\n",
    "    map = {'protein_coding': ['protein_coding'],\n",
    "           'lncRNA': ['lincRNA',\n",
    "                      'lncRNA',\n",
    "                      'processed_transcript',\n",
    "                      'sense_intronic',\n",
    "                      '3prime_overlapping_ncRNA',\n",
    "                      'bidirectional_promoter_lncRNA',\n",
    "                      'sense_overlapping',\n",
    "                      'non_coding',\n",
    "                      'macro_lncRNA',\n",
    "                      'antisense'],\n",
    "           'pseudogene': ['unprocessed_pseudogene',\n",
    "                          'translated_unprocessed_pseudogene',\n",
    "                          'transcribed_unprocessed_pseudogene',\n",
    "                          'processed_pseudogene',\n",
    "                          'transcribed_processed_pseudogene',\n",
    "                          'transcribed_unitary_pseudogene',\n",
    "                          'unitary_pseudogene',\n",
    "                          'polymorphic_pseudogene',\n",
    "                          'pseudogene',\n",
    "                          'translated_processed_pseudogene'],\n",
    "           'miRNA': ['miRNA'],\n",
    "           'other': ['snRNA', 'vault_RNA',\n",
    "                     'misc_RNA', 'TEC',\n",
    "                     'snoRNA', 'scaRNA',\n",
    "                     'rRNA_pseudogene', 'rRNA',\n",
    "                     'IG_V_pseudogene',\n",
    "                     'scRNA', 'IG_V_gene',\n",
    "                     'IG_C_gene', 'IG_J_gene',\n",
    "                     'sRNA', 'ribozyme',\n",
    "                     'vaultRNA', 'TR_C_gene',\n",
    "                     'TR_J_gene', 'TR_V_gene',\n",
    "                     'TR_V_pseudogene', 'TR_D_gene',\n",
    "                     'IG_C_pseudogene', 'IG_D_gene',\n",
    "                     'IG_pseudogene', 'Mt_tRNA',\n",
    "                     'Mt_rRNA', 'TR_J_pseudogene',\n",
    "                     'IG_J_pseudogene']}\n",
    "    return map"
   ]
  },
  {
   "cell_type": "code",
   "execution_count": 416,
   "id": "fa5f67c8-f0af-43bc-a922-83568ac6435b",
   "metadata": {},
   "outputs": [],
   "source": [
    "def do_rank_thing(novs):\n",
    "    ranks = [i for i in range(len(novs))]\n",
    "    nov_rank = dict([(nov, rank) for nov, rank in zip(novs, ranks)])\n",
    "    rank_nov = dict()\n",
    "    for key, item in nov_rank.items():\n",
    "        rank_nov[item] = key\n",
    "    return nov_rank, rank_nov\n",
    "    \n",
    "def get_biotype_ranks():\n",
    "    ranks = ['protein_coding', 'lncRNA', 'pseudogene', 'miRNA', 'other']\n",
    "    rank1, rank2 = do_rank_thing(ranks)\n",
    "    return rank1, rank2\n",
    "    \n",
    "def get_nov_ranks():\n",
    "    \"\"\"\n",
    "    Get rank for each novelty category\n",
    "\n",
    "    Returns:\n",
    "        nov_rank (dict): Dictionary of novelty category: int rank\n",
    "        rank_nov (dict): Dictionary of int rank: novelty category\n",
    "    \"\"\"\n",
    "    novs = ['Known', 'NIC', 'ISM', 'NNC', 'Unspliced']\n",
    "    nov_rank, rank_nov = do_rank_thing(novs)\n",
    "    # ranks = [i for i in range(len(novs))]\n",
    "    # nov_rank = dict([(nov, rank) for nov, rank in zip(novs, ranks)])\n",
    "    # rank_nov = dict()\n",
    "    # for key, item in nov_rank.items():\n",
    "    #     rank_nov[item] = key\n",
    "\n",
    "    return nov_rank, rank_nov\n",
    "\n",
    "def make_unique_region_id(df):\n",
    "    \"\"\"\n",
    "    Make a unique region ID for BED regions that don't \n",
    "    alread have unique identifiers\n",
    "    \"\"\"\n",
    "    df['region_id'] = df['group_name']+'_'+\\\n",
    "                      df['Chromosome'].astype(str)+'_'+\\\n",
    "                      df['Start'].astype(str)+'_'+\\\n",
    "                      df['End'].astype(str)#+'_'+\\\n",
    "                      #df['Strand'].astype(str)\n",
    "    df = df.drop_duplicates()\n",
    "    return df\n",
    "\n",
    "def read_beds(files, name, keep_cols=True):\n",
    "    df = pd.DataFrame()\n",
    "    for f in files:\n",
    "        temp = pd.read_csv(f, sep='\\t')\n",
    "        df = pd.concat([df, temp], axis=0)\n",
    "\n",
    "        # retain just the identifying characteristics \n",
    "        # df = df[['Chromosome', 'Start', 'End', 'Strand']]\n",
    "        if not keep_cols:\n",
    "            df = df[['Chromosome', 'Start', 'End']]\n",
    "    df['group_name']  = name\n",
    "    df = make_unique_region_id(df)\n",
    "    return df\n",
    "    \n",
    "def three_way_intersect(fa,\n",
    "                        fa_group,\n",
    "                        fb,\n",
    "                        fb_group,\n",
    "                        fc,\n",
    "                        fc_group):\n",
    "    \n",
    "    def intersect_thing(a, a_name,\n",
    "                        b, b_name,\n",
    "                        c, c_name):\n",
    "        \n",
    "        # code largely stolen from here: https://github.com/asntech/intervene/blob/master/intervene/modules/upset/upset.py\n",
    "        counts = {}\n",
    "        intersect_beds = {}\n",
    "        input_files = [a, b, c]\n",
    "        input_file_names = [a_name, b_name, c_name]\n",
    "        \n",
    "        N=len(input_files)\n",
    "        truth_table = [x for x in itertools.product(\"01\", repeat=N)][1:]\n",
    "        \n",
    "        for t in truth_table:\n",
    "            ones = [input_files[i] for i in range(N) if t[i] =='1']\n",
    "            zeros = [input_files[i] for i in range(N) if t[i] =='0']\n",
    "            \n",
    "            # report those entries in set A which do ovelap with other sets\n",
    "            x = ones[0]\n",
    "            if len(ones) > 1:\n",
    "                for bed in ones[1:]:\n",
    "                    x = x.overlap(bed,\n",
    "                         how='first')\n",
    "                    \n",
    "            # report those entries in set A which doesn't ovelap with other sets\n",
    "            if len(zeros) > 0:\n",
    "                for bed in zeros[0:]:\n",
    "                    x = x.overlap(bed,\n",
    "                         how='first',\n",
    "                         invert=True)\n",
    "\n",
    "            X = len(x.df.index)\n",
    "\n",
    "            # just check \n",
    "            temp = x.df\n",
    "            n1 = len(temp.index)\n",
    "            n2 = len(temp.region_id.unique())\n",
    "            assert n1 == n2\n",
    "\n",
    "            key = ','.join([input_file_names[i] for i in range(len(t)) if t[i]=='1'])\n",
    "            counts[''.join(t)] = X\n",
    "            intersect_beds[key] = x.df\n",
    "            \n",
    "        return counts, intersect_beds\n",
    "\n",
    "    \n",
    "    # read in beds\n",
    "    fa_df = read_beds(fa, \n",
    "                      fa_group,\n",
    "                      keep_cols=False)\n",
    "    fb_df = read_beds(fb, \n",
    "                      fb_group,\n",
    "                      keep_cols=False)\n",
    "    fc_df = read_beds(fc,\n",
    "                      fc_group,\n",
    "                      keep_cols=False)\n",
    "    \n",
    "    # perform intersections: \n",
    "    fa_pr = pr.PyRanges(fa_df)\n",
    "    fb_pr = pr.PyRanges(fb_df)\n",
    "    fc_pr = pr.PyRanges(fc_df)\n",
    "    \n",
    "    counts, intersect_beds = intersect_thing(fa_pr, fa_group,\n",
    "                                              fb_pr, fb_group,\n",
    "                                              fc_pr, fc_group)\n",
    "    \n",
    "    venn3(counts, set_labels=[fa_group, fb_group, fc_group])\n",
    "    \n",
    "    return counts, intersect_beds"
   ]
  },
  {
   "cell_type": "markdown",
   "id": "8cb0aeb1-0e53-4910-a57d-0203f06fb329",
   "metadata": {},
   "source": [
    "## cCRE characterization"
   ]
  },
  {
   "cell_type": "code",
   "execution_count": 403,
   "id": "a533bfdc-9ad4-4827-bca8-65c946d0840d",
   "metadata": {},
   "outputs": [],
   "source": [
    "gtf_df = pr.read_gtf(gtf_file)\n",
    "gtf_df = gtf_df.features.tss()"
   ]
  },
  {
   "cell_type": "code",
   "execution_count": 406,
   "id": "d75884fa-8a92-4b3a-a7f9-f9de627744b9",
   "metadata": {},
   "outputs": [],
   "source": [
    "gtf_df = gtf_df.df\n",
    "map = get_biotype_map()\n",
    "\n",
    "# pivot map\n",
    "biotype_map = {}\n",
    "for key, biotypes in map.items():\n",
    "    for biotype in biotypes:\n",
    "        biotype_map[biotype] = key\n",
    "# then add map to df\n",
    "gtf_df['biotype_category'] = gtf_df.gene_type.map(biotype_map)\n",
    "\n",
    "gtf_df = pr.PyRanges(gtf_df)        "
   ]
  },
  {
   "cell_type": "code",
   "execution_count": 409,
   "id": "2b6d76bb-2d80-4d8e-80e8-2c9e95ee34ba",
   "metadata": {},
   "outputs": [],
   "source": [
    "gtf_df = gtf_df.df\n",
    "gtf_df = gtf_df[['Chromosome', 'Start', 'End', 'Strand', 'biotype_category', 'gene_id']]\n",
    "gtf_df = pr.PyRanges(gtf_df)"
   ]
  },
  {
   "cell_type": "code",
   "execution_count": 395,
   "id": "cc505071-96f0-455a-9f67-b10f8e9dc394",
   "metadata": {},
   "outputs": [
    {
     "data": {
      "image/png": "[encoded data removed]",
      "text/plain": [
       "<Figure size 432x288 with 1 Axes>"
      ]
     },
     "metadata": {},
     "output_type": "display_data"
    }
   ],
   "source": [
    "counts, int_beds = three_way_intersect(files_a,\n",
    "                        files_a_name,\n",
    "                        files_b,\n",
    "                        files_b_name,\n",
    "                        files_c,\n",
    "                        files_c_name)"
   ]
  },
  {
   "cell_type": "code",
   "execution_count": 432,
   "id": "34dca37e-e6f8-4f12-bbcf-57605492df61",
   "metadata": {},
   "outputs": [
    {
     "name": "stdout",
     "output_type": "stream",
     "text": [
      "cCRE\n",
      "1766201\n",
      "1668882\n"
     ]
    },
    {
     "data": {
      "image/png": "[encoded data removed]",
      "text/plain": [
       "<Figure size 432x288 with 1 Axes>"
      ]
     },
     "metadata": {
      "needs_background": "light"
     },
     "output_type": "display_data"
    },
    {
     "name": "stderr",
     "output_type": "stream",
     "text": [
      "join: Strand data from other will be added as strand data to self.\n",
      "If this is undesired use the flag apply_strand_suffix=False.\n",
      "To turn off the warning set apply_strand_suffix to True or False.\n"
     ]
    },
    {
     "data": {
      "image/png": "[encoded data removed]",
      "text/plain": [
       "<Figure size 432x288 with 1 Axes>"
      ]
     },
     "metadata": {
      "needs_background": "light"
     },
     "output_type": "display_data"
    },
    {
     "name": "stdout",
     "output_type": "stream",
     "text": [
      "\n",
      "cCRE,LR\n",
      "1766201\n",
      "5432\n"
     ]
    },
    {
     "data": {
      "image/png": "[encoded data removed]",
      "text/plain": [
       "<Figure size 432x288 with 1 Axes>"
      ]
     },
     "metadata": {
      "needs_background": "light"
     },
     "output_type": "display_data"
    },
    {
     "name": "stderr",
     "output_type": "stream",
     "text": [
      "join: Strand data from other will be added as strand data to self.\n",
      "If this is undesired use the flag apply_strand_suffix=False.\n",
      "To turn off the warning set apply_strand_suffix to True or False.\n"
     ]
    },
    {
     "data": {
      "image/png": "[encoded data removed]",
      "text/plain": [
       "<Figure size 432x288 with 1 Axes>"
      ]
     },
     "metadata": {
      "needs_background": "light"
     },
     "output_type": "display_data"
    },
    {
     "name": "stdout",
     "output_type": "stream",
     "text": [
      "\n",
      "cCRE,ProCap\n",
      "1766201\n",
      "78078\n"
     ]
    },
    {
     "data": {
      "image/png": "[encoded data removed]",
      "text/plain": [
       "<Figure size 432x288 with 1 Axes>"
      ]
     },
     "metadata": {
      "needs_background": "light"
     },
     "output_type": "display_data"
    },
    {
     "name": "stderr",
     "output_type": "stream",
     "text": [
      "join: Strand data from other will be added as strand data to self.\n",
      "If this is undesired use the flag apply_strand_suffix=False.\n",
      "To turn off the warning set apply_strand_suffix to True or False.\n"
     ]
    },
    {
     "data": {
      "image/png": "[encoded data removed]",
      "text/plain": [
       "<Figure size 432x288 with 1 Axes>"
      ]
     },
     "metadata": {
      "needs_background": "light"
     },
     "output_type": "display_data"
    },
    {
     "name": "stdout",
     "output_type": "stream",
     "text": [
      "\n",
      "cCRE,ProCap,LR\n",
      "1766201\n",
      "13809\n"
     ]
    },
    {
     "data": {
      "image/png": "[encoded data removed]",
      "text/plain": [
       "<Figure size 432x288 with 1 Axes>"
      ]
     },
     "metadata": {
      "needs_background": "light"
     },
     "output_type": "display_data"
    },
    {
     "name": "stderr",
     "output_type": "stream",
     "text": [
      "join: Strand data from other will be added as strand data to self.\n",
      "If this is undesired use the flag apply_strand_suffix=False.\n",
      "To turn off the warning set apply_strand_suffix to True or False.\n"
     ]
    },
    {
     "data": {
      "image/png": "[encoded data removed]",
      "text/plain": [
       "<Figure size 432x288 with 1 Axes>"
      ]
     },
     "metadata": {
      "needs_background": "light"
     },
     "output_type": "display_data"
    },
    {
     "name": "stdout",
     "output_type": "stream",
     "text": [
      "\n"
     ]
    },
    {
     "data": {
      "text/plain": [
       "<Figure size 432x288 with 0 Axes>"
      ]
     },
     "metadata": {},
     "output_type": "display_data"
    }
   ],
   "source": [
    "for key, item in int_beds.items():\n",
    "    if files_a_name not in key:\n",
    "        continue\n",
    "    print(key)\n",
    "    df = int_beds[key]\n",
    "    ccre_df = read_beds(files_a, files_a_name)    \n",
    "    \n",
    "    # get regions from original thing that were present in this\n",
    "    # intersection file\n",
    "    print(len(ccre_df.index))\n",
    "    ccre_df = ccre_df.loc[ccre_df.region_id.isin(df.region_id.tolist())]\n",
    "    print(len(ccre_df.index))\n",
    "    sns.countplot(ccre_df, x='assay')    \n",
    "    plt.show()\n",
    "    plt.clf()\n",
    "    \n",
    "    # for plss, which types of genes are they from?\n",
    "    pls_df = ccre_df.loc[ccre_df.assay=='pls']\n",
    "    pls_df = pr.PyRanges(pls_df)\n",
    "    pls_df = pls_df.join(gtf_df, \n",
    "                       how='left',\n",
    "                       slack=200,\n",
    "                       strandedness=None)\n",
    "    pls_df = pls_df.df\n",
    "    rank1, rank2 = get_biotype_ranks()\n",
    "    pls_df['biotype_rank'] = pls_df.biotype_category.map(rank1)\n",
    "    pls_df = pls_df.loc[pls_df.biotype_rank.notnull()]\n",
    "\n",
    "    pls_df = pls_df.sort_values(by='biotype_rank', ascending=True)\n",
    "    # pls_df.loc[pls_df.region_id=='cCRE_chr4_82402223_82402572']\n",
    "    pls_df = pls_df.drop_duplicates(subset='region_id', keep='first')\n",
    "    # pls_df.loc[pls_df.region_id=='cCRE_chr4_82402223_82402572']\n",
    "    sns.countplot(pls_df, x='biotype_category')\n",
    "    plt.show()\n",
    "    plt.clf()\n",
    "    print()"
   ]
  },
  {
   "cell_type": "code",
   "execution_count": null,
   "id": "4a607b95-2ce5-4781-a927-f0e321d4b659",
   "metadata": {},
   "outputs": [],
   "source": []
  },
  {
   "cell_type": "code",
   "execution_count": null,
   "id": "a800d5e4-98c2-466c-b232-af985655a1c0",
   "metadata": {},
   "outputs": [],
   "source": []
  },
  {
   "cell_type": "code",
   "execution_count": null,
   "id": "07037436-24ea-4cf3-b651-42b466b90386",
   "metadata": {},
   "outputs": [],
   "source": []
  },
  {
   "cell_type": "code",
   "execution_count": null,
   "id": "5ace99c8-c0a0-4bb0-8fc5-9937ae27657a",
   "metadata": {},
   "outputs": [],
   "source": []
  },
  {
   "cell_type": "code",
   "execution_count": null,
   "id": "9e8c1f1d-873f-497e-aebb-43e81eea3ee5",
   "metadata": {},
   "outputs": [],
   "source": []
  },
  {
   "cell_type": "code",
   "execution_count": null,
   "id": "1620f2ca-70d0-42c8-b414-c7e875ad2ad8",
   "metadata": {},
   "outputs": [],
   "source": []
  },
  {
   "cell_type": "code",
   "execution_count": null,
   "id": "e843e539-7f87-4d9b-b17f-56c0fe07b6a7",
   "metadata": {},
   "outputs": [],
   "source": []
  },
  {
   "cell_type": "markdown",
   "id": "ef1180ca-db63-4f0a-8f66-c09ed62e9e3a",
   "metadata": {},
   "source": [
    "## LR characterization"
   ]
  },
  {
   "cell_type": "code",
   "execution_count": 264,
   "id": "8a101d9a-bd34-4f93-a27f-70ed7251350a",
   "metadata": {},
   "outputs": [
    {
     "data": {
      "text/plain": [
       "dict_keys(['ProCap', 'cCRE', 'cCRE,ProCap', 'LR', 'LR,ProCap', 'LR,cCRE', 'LR,cCRE,ProCap'])"
      ]
     },
     "execution_count": 264,
     "metadata": {},
     "output_type": "execute_result"
    },
    {
     "data": {
      "image/png": "[encoded data removed]",
      "text/plain": [
       "<Figure size 432x288 with 1 Axes>"
      ]
     },
     "metadata": {},
     "output_type": "display_data"
    }
   ],
   "source": [
    "# what novelty types were the TSSs from LR associated with in each intersection?\n",
    "counts, int_beds = three_way_intersect(files_c,\n",
    "                        files_c_name,\n",
    "                        files_a,\n",
    "                        files_a_name,\n",
    "                        files_b,\n",
    "                        files_b_name)"
   ]
  },
  {
   "cell_type": "code",
   "execution_count": null,
   "id": "2fb1c87b-0e5b-413d-a1bb-a5f269be22df",
   "metadata": {},
   "outputs": [],
   "source": [
    "ca = cerberus.read(ca_h5)"
   ]
  },
  {
   "cell_type": "code",
   "execution_count": 338,
   "id": "8583bf39-bd31-4c3c-b9ce-c0d66c5a8f5e",
   "metadata": {},
   "outputs": [
    {
     "name": "stdout",
     "output_type": "stream",
     "text": [
      "LR\n",
      "50924\n",
      "5220\n",
      "153941\n",
      "3214\n"
     ]
    },
    {
     "data": {
      "image/png": "[encoded data removed]",
      "text/plain": [
       "<Figure size 432x288 with 1 Axes>"
      ]
     },
     "metadata": {
      "needs_background": "light"
     },
     "output_type": "display_data"
    },
    {
     "name": "stdout",
     "output_type": "stream",
     "text": [
      "\n",
      "LR,ProCap\n",
      "50924\n",
      "1094\n",
      "153941\n",
      "575\n"
     ]
    },
    {
     "data": {
      "image/png": "[encoded data removed]",
      "text/plain": [
       "<Figure size 432x288 with 1 Axes>"
      ]
     },
     "metadata": {
      "needs_background": "light"
     },
     "output_type": "display_data"
    },
    {
     "name": "stdout",
     "output_type": "stream",
     "text": [
      "\n",
      "LR,cCRE\n",
      "50924\n",
      "8442\n",
      "153941\n",
      "4931\n"
     ]
    },
    {
     "data": {
      "image/png": "[encoded data removed]",
      "text/plain": [
       "<Figure size 432x288 with 1 Axes>"
      ]
     },
     "metadata": {
      "needs_background": "light"
     },
     "output_type": "display_data"
    },
    {
     "name": "stdout",
     "output_type": "stream",
     "text": [
      "\n",
      "LR,cCRE,ProCap\n",
      "50924\n",
      "36168\n",
      "153941\n",
      "14151\n"
     ]
    },
    {
     "data": {
      "image/png": "[encoded data removed]",
      "text/plain": [
       "<Figure size 432x288 with 1 Axes>"
      ]
     },
     "metadata": {
      "needs_background": "light"
     },
     "output_type": "display_data"
    },
    {
     "name": "stdout",
     "output_type": "stream",
     "text": [
      "\n"
     ]
    },
    {
     "data": {
      "text/plain": [
       "<Figure size 432x288 with 0 Axes>"
      ]
     },
     "metadata": {},
     "output_type": "display_data"
    }
   ],
   "source": [
    "for key, item in int_beds.items():\n",
    "    if files_c_name not in key:\n",
    "        continue\n",
    "    print(key)\n",
    "    df = int_beds[key]\n",
    "    lr_df = read_beds(files_c, files_c_name)    \n",
    "    \n",
    "    # get regions from original thing that were present in this\n",
    "    # intersection file\n",
    "    print(len(lr_df.index))\n",
    "    lr_df = lr_df.loc[lr_df.region_id.isin(df.region_id.tolist())]\n",
    "    print(len(lr_df.index))\n",
    "    tss_df = ca.tss.copy(deep=True)\n",
    "\n",
    "    tss_df['group_name'] = files_c_name\n",
    "    tss_df = make_unique_region_id(tss_df)\n",
    "    print(len(tss_df.index))\n",
    "    tss_df = tss_df.loc[tss_df.region_id.isin(df.region_id.tolist())]\n",
    "    print(len(tss_df.index))\n",
    "\n",
    "    tss_df = tss_df[['Name']]\n",
    "    t_df = ca.t_map.loc[ca.t_map.source=='lapa']\n",
    "    t_df = t_df.merge(ca.ic[['Name', 'novelty']].rename({'Name':'ic_id'}, axis=1),\n",
    "                      how='left', on='ic_id')\n",
    "    tss_df = tss_df.merge(t_df[['tss_id', 'novelty']].rename({'tss_id':'Name'}, axis=1),\n",
    "                          on='Name', how='left')\n",
    "    nov_rank, rank_nov = get_nov_ranks()\n",
    "    tss_df['nov_rank'] = tss_df.novelty.map(nov_rank)\n",
    "    tss_df = tss_df.loc[tss_df.nov_rank.notnull()]\n",
    "    \n",
    "    tss_df = tss_df.sort_values(by='nov_rank', ascending=True)\n",
    "    tss_df = tss_df.drop_duplicates(subset='Name', keep='first')\n",
    "    \n",
    "    sns.countplot(data=tss_df, x='novelty')    \n",
    "    plt.show()\n",
    "    plt.clf()\n",
    "    print()"
   ]
  },
  {
   "cell_type": "markdown",
   "id": "178dc605-4201-4ed1-9a9d-aeb8e919d9fb",
   "metadata": {},
   "source": [
    "## ProCap characterization"
   ]
  },
  {
   "cell_type": "code",
   "execution_count": null,
   "id": "7c99a677-9356-4bba-bd57-64119fee7167",
   "metadata": {},
   "outputs": [],
   "source": [
    "gtf_df = pr.read_gtf(gtf_file)\n",
    "gtf_df = gtf_df.df\n",
    "gtf_df = gtf_df.loc[gtf_df.Feature=='gene']\n",
    "gtf_df = gtf_df[['Chromosome', 'Start', 'End', 'Strand', 'gene_id']]\n",
    "gtf_df = pr.PyRanges(gtf_df)"
   ]
  },
  {
   "cell_type": "code",
   "execution_count": 385,
   "id": "913fd225-5974-4046-afbc-ab121cfcad2b",
   "metadata": {},
   "outputs": [
    {
     "data": {
      "image/png": "[encoded data removed]",
      "text/plain": [
       "<Figure size 432x288 with 1 Axes>"
      ]
     },
     "metadata": {},
     "output_type": "display_data"
    }
   ],
   "source": [
    "# what about genic vs. non-genic procap peaks?\n",
    "# what novelty types were the TSSs from LR associated with in each intersection?\n",
    "counts, int_beds = three_way_intersect(files_b,\n",
    "                        files_b_name,\n",
    "                        files_c,\n",
    "                        files_c_name,\n",
    "                        files_a,\n",
    "                        files_a_name)"
   ]
  },
  {
   "cell_type": "code",
   "execution_count": 386,
   "id": "9e881d01-169c-4d85-9895-431c95e32746",
   "metadata": {},
   "outputs": [
    {
     "name": "stdout",
     "output_type": "stream",
     "text": [
      "ProCap\n",
      "351687\n",
      "158582\n"
     ]
    },
    {
     "name": "stderr",
     "output_type": "stream",
     "text": [
      "join: Strand data from other will be added as strand data to self.\n",
      "If this is undesired use the flag apply_strand_suffix=False.\n",
      "To turn off the warning set apply_strand_suffix to True or False.\n"
     ]
    },
    {
     "data": {
      "image/png": "[encoded data removed]",
      "text/plain": [
       "<Figure size 432x288 with 1 Axes>"
      ]
     },
     "metadata": {
      "needs_background": "light"
     },
     "output_type": "display_data"
    },
    {
     "name": "stdout",
     "output_type": "stream",
     "text": [
      "ProCap,cCRE\n",
      "351687\n",
      "140114\n"
     ]
    },
    {
     "name": "stderr",
     "output_type": "stream",
     "text": [
      "join: Strand data from other will be added as strand data to self.\n",
      "If this is undesired use the flag apply_strand_suffix=False.\n",
      "To turn off the warning set apply_strand_suffix to True or False.\n"
     ]
    },
    {
     "data": {
      "image/png": "[encoded data removed]",
      "text/plain": [
       "<Figure size 432x288 with 1 Axes>"
      ]
     },
     "metadata": {
      "needs_background": "light"
     },
     "output_type": "display_data"
    },
    {
     "name": "stdout",
     "output_type": "stream",
     "text": [
      "ProCap,LR\n",
      "351687\n",
      "1493\n"
     ]
    },
    {
     "name": "stderr",
     "output_type": "stream",
     "text": [
      "join: Strand data from other will be added as strand data to self.\n",
      "If this is undesired use the flag apply_strand_suffix=False.\n",
      "To turn off the warning set apply_strand_suffix to True or False.\n"
     ]
    },
    {
     "data": {
      "image/png": "[encoded data removed]",
      "text/plain": [
       "<Figure size 432x288 with 1 Axes>"
      ]
     },
     "metadata": {
      "needs_background": "light"
     },
     "output_type": "display_data"
    },
    {
     "name": "stdout",
     "output_type": "stream",
     "text": [
      "ProCap,LR,cCRE\n",
      "351687\n",
      "51498\n"
     ]
    },
    {
     "name": "stderr",
     "output_type": "stream",
     "text": [
      "join: Strand data from other will be added as strand data to self.\n",
      "If this is undesired use the flag apply_strand_suffix=False.\n",
      "To turn off the warning set apply_strand_suffix to True or False.\n"
     ]
    },
    {
     "data": {
      "image/png": "[encoded data removed]",
      "text/plain": [
       "<Figure size 432x288 with 1 Axes>"
      ]
     },
     "metadata": {
      "needs_background": "light"
     },
     "output_type": "display_data"
    },
    {
     "data": {
      "text/plain": [
       "<Figure size 432x288 with 0 Axes>"
      ]
     },
     "metadata": {},
     "output_type": "display_data"
    }
   ],
   "source": [
    "for key, item in int_beds.items():\n",
    "    if files_b_name not in key:\n",
    "        continue\n",
    "    print(key)\n",
    "    df = int_beds[key]\n",
    "    pc_df = read_beds(files_b, files_b_name)    \n",
    "    \n",
    "    # get regions from original thing that were present in this\n",
    "    # intersection file\n",
    "    print(len(pc_df.index))\n",
    "    pc_df = pc_df.loc[pc_df.region_id.isin(df.region_id.tolist())]\n",
    "    print(len(pc_df.index))\n",
    "    \n",
    "    pc_df = pr.PyRanges(pc_df)\n",
    "    pc_df = pc_df.join(gtf_df, \n",
    "                       how='left', \n",
    "                       strandedness=None)\n",
    "    pc_df = pc_df.df    \n",
    "    pc_df['status'] = 'Genic'\n",
    "    pc_df.loc[pc_df.gene_id == '-1', 'status'] = 'Intergenic'\n",
    "    sns.countplot(data=pc_df, x='status')    \n",
    "\n",
    "    plt.show()\n",
    "    plt.clf()"
   ]
  },
  {
   "cell_type": "code",
   "execution_count": null,
   "id": "df684d7d-5f9f-4217-a4b2-e6ace46f937c",
   "metadata": {},
   "outputs": [],
   "source": []
  },
  {
   "cell_type": "code",
   "execution_count": null,
   "id": "5764bf53-c18c-437b-ac44-91f5cb99e5bd",
   "metadata": {},
   "outputs": [],
   "source": []
  },
  {
   "cell_type": "code",
   "execution_count": null,
   "id": "ac9dd498-f193-4845-8ca9-0b923d9e8373",
   "metadata": {},
   "outputs": [],
   "source": []
  },
  {
   "cell_type": "code",
   "execution_count": null,
   "id": "711c5481-e4ef-498d-9094-f431166486d6",
   "metadata": {},
   "outputs": [],
   "source": []
  },
  {
   "cell_type": "markdown",
   "id": "a7b7edd1-cf7c-4e72-ac4d-645016a36e56",
   "metadata": {},
   "source": [
    "## older"
   ]
  },
  {
   "cell_type": "code",
   "execution_count": 334,
   "id": "a29569f2-53ad-4a08-9d09-d327811fc155",
   "metadata": {},
   "outputs": [],
   "source": [
    "# tss_df.loc[tss_df.Name=='ENSG00000049656_3']"
   ]
  },
  {
   "cell_type": "code",
   "execution_count": 331,
   "id": "4f1d6291-86de-429f-944c-e0383efffd43",
   "metadata": {},
   "outputs": [],
   "source": []
  },
  {
   "cell_type": "code",
   "execution_count": 333,
   "id": "1b817dcf-0249-47b3-83a5-60ec2d6a37a5",
   "metadata": {},
   "outputs": [],
   "source": [
    "# tss_df.loc[tss_df.Name=='ENSG00000049656_3']"
   ]
  },
  {
   "cell_type": "code",
   "execution_count": 326,
   "id": "167c168b-6891-4f0a-b4f7-0665f8816129",
   "metadata": {},
   "outputs": [],
   "source": [
    "# ca.t_map.loc[ca.t_map.tss_id=='ENSG00000049656_3']"
   ]
  },
  {
   "cell_type": "code",
   "execution_count": 336,
   "id": "61781ca7-3af4-4401-8c59-c1182d368ec0",
   "metadata": {},
   "outputs": [
    {
     "data": {
      "text/plain": [
       "<matplotlib.axes._subplots.AxesSubplot at 0x7f90a690d9d0>"
      ]
     },
     "execution_count": 336,
     "metadata": {},
     "output_type": "execute_result"
    },
    {
     "data": {
      "image/png": "[encoded data removed]",
      "text/plain": [
       "<Figure size 432x288 with 1 Axes>"
      ]
     },
     "metadata": {
      "needs_background": "light"
     },
     "output_type": "display_data"
    }
   ],
   "source": [
    "sns.countplot(data=tss_df, x='novelty')"
   ]
  },
  {
   "cell_type": "code",
   "execution_count": null,
   "id": "053036bb-4a90-4f86-8d11-1392f9acd2ae",
   "metadata": {},
   "outputs": [],
   "source": []
  },
  {
   "cell_type": "code",
   "execution_count": null,
   "id": "794aec02-69d2-48af-98a9-3f53321c5be0",
   "metadata": {},
   "outputs": [],
   "source": []
  },
  {
   "cell_type": "code",
   "execution_count": null,
   "id": "a7953847-c8ca-4a26-ba5f-551ac89d2222",
   "metadata": {},
   "outputs": [],
   "source": []
  },
  {
   "cell_type": "code",
   "execution_count": null,
   "id": "530412b9-8ced-4cf5-bb6b-3ded306e8eab",
   "metadata": {},
   "outputs": [],
   "source": []
  },
  {
   "cell_type": "code",
   "execution_count": null,
   "id": "e52052b1-258d-4f81-bc02-404087fadc7c",
   "metadata": {},
   "outputs": [],
   "source": []
  },
  {
   "cell_type": "code",
   "execution_count": 253,
   "id": "5ca50939-8d9a-4c47-a3ab-8be7cee9f7d2",
   "metadata": {},
   "outputs": [
    {
     "data": {
      "text/html": [
       "<div>\n",
       "<style scoped>\n",
       "    .dataframe tbody tr th:only-of-type {\n",
       "        vertical-align: middle;\n",
       "    }\n",
       "\n",
       "    .dataframe tbody tr th {\n",
       "        vertical-align: top;\n",
       "    }\n",
       "\n",
       "    .dataframe thead th {\n",
       "        text-align: right;\n",
       "    }\n",
       "</style>\n",
       "<table border=\"1\" class=\"dataframe\">\n",
       "  <thead>\n",
       "    <tr style=\"text-align: right;\">\n",
       "      <th></th>\n",
       "      <th>Chromosome</th>\n",
       "      <th>Start</th>\n",
       "      <th>End</th>\n",
       "      <th>group_name</th>\n",
       "      <th>region_id</th>\n",
       "    </tr>\n",
       "  </thead>\n",
       "  <tbody>\n",
       "    <tr>\n",
       "      <th>0</th>\n",
       "      <td>chr1</td>\n",
       "      <td>904578</td>\n",
       "      <td>904918</td>\n",
       "      <td>cCRE</td>\n",
       "      <td>cCRE_chr1_904578_904918</td>\n",
       "    </tr>\n",
       "    <tr>\n",
       "      <th>1</th>\n",
       "      <td>chr1</td>\n",
       "      <td>923719</td>\n",
       "      <td>924069</td>\n",
       "      <td>cCRE</td>\n",
       "      <td>cCRE_chr1_923719_924069</td>\n",
       "    </tr>\n",
       "    <tr>\n",
       "      <th>2</th>\n",
       "      <td>chr1</td>\n",
       "      <td>925512</td>\n",
       "      <td>925850</td>\n",
       "      <td>cCRE</td>\n",
       "      <td>cCRE_chr1_925512_925850</td>\n",
       "    </tr>\n",
       "    <tr>\n",
       "      <th>3</th>\n",
       "      <td>chr1</td>\n",
       "      <td>1019822</td>\n",
       "      <td>1020170</td>\n",
       "      <td>cCRE</td>\n",
       "      <td>cCRE_chr1_1019822_1020170</td>\n",
       "    </tr>\n",
       "    <tr>\n",
       "      <th>4</th>\n",
       "      <td>chr1</td>\n",
       "      <td>1400363</td>\n",
       "      <td>1400692</td>\n",
       "      <td>cCRE</td>\n",
       "      <td>cCRE_chr1_1400363_1400692</td>\n",
       "    </tr>\n",
       "  </tbody>\n",
       "</table>\n",
       "</div>"
      ],
      "text/plain": [
       "  Chromosome    Start      End group_name                  region_id\n",
       "0       chr1   904578   904918       cCRE    cCRE_chr1_904578_904918\n",
       "1       chr1   923719   924069       cCRE    cCRE_chr1_923719_924069\n",
       "2       chr1   925512   925850       cCRE    cCRE_chr1_925512_925850\n",
       "3       chr1  1019822  1020170       cCRE  cCRE_chr1_1019822_1020170\n",
       "4       chr1  1400363  1400692       cCRE  cCRE_chr1_1400363_1400692"
      ]
     },
     "execution_count": 253,
     "metadata": {},
     "output_type": "execute_result"
    }
   ],
   "source": [
    "# look at ccre types in each thing\n",
    "key = 'cCRE,ProCap'\n",
    "df = int_beds[key]\n",
    "df.head()"
   ]
  },
  {
   "cell_type": "code",
   "execution_count": 254,
   "id": "1f60d422-c83e-4e64-8c38-7f3dc0f613cf",
   "metadata": {},
   "outputs": [],
   "source": [
    "ccre_df = read_beds(files_a, files_a_name)"
   ]
  },
  {
   "cell_type": "code",
   "execution_count": 255,
   "id": "aee5e4fe-f8c7-4cd4-9c0b-bd235c590d0a",
   "metadata": {},
   "outputs": [
    {
     "data": {
      "text/html": [
       "<div>\n",
       "<style scoped>\n",
       "    .dataframe tbody tr th:only-of-type {\n",
       "        vertical-align: middle;\n",
       "    }\n",
       "\n",
       "    .dataframe tbody tr th {\n",
       "        vertical-align: top;\n",
       "    }\n",
       "\n",
       "    .dataframe thead th {\n",
       "        text-align: right;\n",
       "    }\n",
       "</style>\n",
       "<table border=\"1\" class=\"dataframe\">\n",
       "  <thead>\n",
       "    <tr style=\"text-align: right;\">\n",
       "      <th></th>\n",
       "      <th>Chromosome</th>\n",
       "      <th>Start</th>\n",
       "      <th>End</th>\n",
       "      <th>assay</th>\n",
       "      <th>group_name</th>\n",
       "      <th>region_id</th>\n",
       "    </tr>\n",
       "  </thead>\n",
       "  <tbody>\n",
       "    <tr>\n",
       "      <th>0</th>\n",
       "      <td>chr1</td>\n",
       "      <td>778570</td>\n",
       "      <td>778919</td>\n",
       "      <td>pls</td>\n",
       "      <td>cCRE</td>\n",
       "      <td>cCRE_chr1_778570_778919</td>\n",
       "    </tr>\n",
       "    <tr>\n",
       "      <th>1</th>\n",
       "      <td>chr1</td>\n",
       "      <td>779023</td>\n",
       "      <td>779182</td>\n",
       "      <td>pls</td>\n",
       "      <td>cCRE</td>\n",
       "      <td>cCRE_chr1_779023_779182</td>\n",
       "    </tr>\n",
       "    <tr>\n",
       "      <th>2</th>\n",
       "      <td>chr1</td>\n",
       "      <td>817080</td>\n",
       "      <td>817403</td>\n",
       "      <td>pls</td>\n",
       "      <td>cCRE</td>\n",
       "      <td>cCRE_chr1_817080_817403</td>\n",
       "    </tr>\n",
       "    <tr>\n",
       "      <th>3</th>\n",
       "      <td>chr1</td>\n",
       "      <td>826734</td>\n",
       "      <td>826887</td>\n",
       "      <td>pls</td>\n",
       "      <td>cCRE</td>\n",
       "      <td>cCRE_chr1_826734_826887</td>\n",
       "    </tr>\n",
       "    <tr>\n",
       "      <th>4</th>\n",
       "      <td>chr1</td>\n",
       "      <td>826894</td>\n",
       "      <td>827162</td>\n",
       "      <td>pls</td>\n",
       "      <td>cCRE</td>\n",
       "      <td>cCRE_chr1_826894_827162</td>\n",
       "    </tr>\n",
       "  </tbody>\n",
       "</table>\n",
       "</div>"
      ],
      "text/plain": [
       "  Chromosome   Start     End assay group_name                region_id\n",
       "0       chr1  778570  778919   pls       cCRE  cCRE_chr1_778570_778919\n",
       "1       chr1  779023  779182   pls       cCRE  cCRE_chr1_779023_779182\n",
       "2       chr1  817080  817403   pls       cCRE  cCRE_chr1_817080_817403\n",
       "3       chr1  826734  826887   pls       cCRE  cCRE_chr1_826734_826887\n",
       "4       chr1  826894  827162   pls       cCRE  cCRE_chr1_826894_827162"
      ]
     },
     "execution_count": 255,
     "metadata": {},
     "output_type": "execute_result"
    }
   ],
   "source": [
    "ccre_df.head()"
   ]
  },
  {
   "cell_type": "code",
   "execution_count": 256,
   "id": "5cb001f2-4c3c-4467-bfa9-c6aa2af5e855",
   "metadata": {},
   "outputs": [
    {
     "name": "stdout",
     "output_type": "stream",
     "text": [
      "1766201\n",
      "78078\n"
     ]
    }
   ],
   "source": [
    "# get regions from original thing that were present in this\n",
    "# intersection file\n",
    "print(len(ccre_df.index))\n",
    "ccre_df = ccre_df.loc[ccre_df.region_id.isin(df.region_id.tolist())]\n",
    "print(len(ccre_df.index))"
   ]
  },
  {
   "cell_type": "code",
   "execution_count": 257,
   "id": "cc7358ab-9c9d-4c2a-8a08-6476db35fea9",
   "metadata": {},
   "outputs": [
    {
     "data": {
      "text/plain": [
       "<matplotlib.axes._subplots.AxesSubplot at 0x7f943289fd90>"
      ]
     },
     "execution_count": 257,
     "metadata": {},
     "output_type": "execute_result"
    },
    {
     "data": {
      "image/png": "[encoded data removed]",
      "text/plain": [
       "<Figure size 432x288 with 1 Axes>"
      ]
     },
     "metadata": {
      "needs_background": "light"
     },
     "output_type": "display_data"
    }
   ],
   "source": [
    "sns.countplot(ccre_df, x='assay')"
   ]
  },
  {
   "cell_type": "code",
   "execution_count": null,
   "id": "54c3246a-8eea-49fd-89dd-f686c4efc6e7",
   "metadata": {},
   "outputs": [],
   "source": []
  },
  {
   "cell_type": "code",
   "execution_count": null,
   "id": "aaa3da09-d31a-48d7-b689-6279277a40c1",
   "metadata": {},
   "outputs": [],
   "source": []
  },
  {
   "cell_type": "code",
   "execution_count": null,
   "id": "4c4565f5-b5e0-4063-8b6d-5188b1df88cf",
   "metadata": {},
   "outputs": [],
   "source": []
  },
  {
   "cell_type": "code",
   "execution_count": null,
   "id": "f8be88c8-2216-4187-8ce1-229d522fa848",
   "metadata": {},
   "outputs": [],
   "source": []
  },
  {
   "cell_type": "code",
   "execution_count": 178,
   "id": "0b4e259e-85c3-45ad-914b-b52ae48ddab9",
   "metadata": {},
   "outputs": [
    {
     "name": "stdout",
     "output_type": "stream",
     "text": [
      "here\n",
      "here\n",
      "here\n",
      "here\n",
      "here\n"
     ]
    }
   ],
   "source": [
    "# code largely stolen from here: https://github.com/asntech/intervene/blob/master/intervene/modules/upset/upset.py\n",
    "weights = {}\n",
    "intersect_beds = {}\n",
    "input_files = ['test_bed_1.bed', 'test_bed_2.bed','test_bed_3.bed']\n",
    "N=len(input_files)\n",
    "truth_table = [x for x in itertools.product(\"01\", repeat=N)][1:]\n",
    "for t in truth_table:\n",
    "    ones = [pr.read_bed(input_files[i]) for i in range(N) if t[i] =='1']\n",
    "    zeros = [pr.read_bed(input_files[i]) for i in range(N) if t[i] =='0']\n",
    "    # report those entries in set A which do ovelap with other sets\n",
    "    x = ones[0]\n",
    "    if len(ones) > 1:\n",
    "        for bed in ones[1:]:\n",
    "            print('here')\n",
    "            x = x.overlap(bed,\n",
    "                 how='first')\n",
    "    # report those entries in set A which doesn't ovelap with other sets\n",
    "    if len(zeros) > 0:\n",
    "        for bed in zeros[0:]:\n",
    "            x = x.overlap(bed,\n",
    "                 how='first',\n",
    "                 invert=True)\n",
    "            \n",
    "    # X = (x).count()\n",
    "    X = len(x.df.index)\n",
    "    \n",
    "    temp = x.df\n",
    "    n1 = len(temp.index)\n",
    "    n2 = len(temp.ThickEnd.unique())\n",
    "    if n1 != n2: import pdb; pdb.set_trace()\n",
    "    \n",
    "    \n",
    "    weights[''.join(t)] = X\n",
    "    intersect_beds[''.join(t)] = x.df"
   ]
  },
  {
   "cell_type": "code",
   "execution_count": 180,
   "id": "a79f339c-2e24-45c2-a476-f68cd4c94ad3",
   "metadata": {},
   "outputs": [
    {
     "data": {
      "text/plain": [
       "dict_keys(['001', '010', '011', '100', '101', '110', '111'])"
      ]
     },
     "execution_count": 180,
     "metadata": {},
     "output_type": "execute_result"
    }
   ],
   "source": [
    "intersect_beds.keys()"
   ]
  },
  {
   "cell_type": "code",
   "execution_count": 174,
   "id": "48d96366-d0f7-4070-8b2a-098e6fa9e09b",
   "metadata": {},
   "outputs": [
    {
     "data": {
      "text/plain": [
       "<matplotlib_venn._common.VennDiagram at 0x7f93e1ffee10>"
      ]
     },
     "execution_count": 174,
     "metadata": {},
     "output_type": "execute_result"
    },
    {
     "data": {
      "image/png": "[encoded data removed]",
      "text/plain": [
       "<Figure size 432x288 with 1 Axes>"
      ]
     },
     "metadata": {},
     "output_type": "display_data"
    }
   ],
   "source": [
    "# all k562\n",
    "venn3(weights, set_labels=['ProCap', 'LR', 'cCRE'])"
   ]
  },
  {
   "cell_type": "code",
   "execution_count": 168,
   "id": "8739ee57-c061-495d-8270-e7fe97f69b5f",
   "metadata": {},
   "outputs": [
    {
     "name": "stdout",
     "output_type": "stream",
     "text": [
      "346043\n",
      "22760\n",
      "1766201\n"
     ]
    }
   ],
   "source": [
    "for i in input_files:\n",
    "    df = pr.read_bed(i).df\n",
    "    print(len(df.index))"
   ]
  },
  {
   "cell_type": "code",
   "execution_count": 148,
   "id": "f48b93ef-0431-4402-9d18-6b70ce8aa93a",
   "metadata": {},
   "outputs": [
    {
     "data": {
      "text/html": [
       "<div>\n",
       "<style scoped>\n",
       "    .dataframe tbody tr th:only-of-type {\n",
       "        vertical-align: middle;\n",
       "    }\n",
       "\n",
       "    .dataframe tbody tr th {\n",
       "        vertical-align: top;\n",
       "    }\n",
       "\n",
       "    .dataframe thead th {\n",
       "        text-align: right;\n",
       "    }\n",
       "</style>\n",
       "<table border=\"1\" class=\"dataframe\">\n",
       "  <thead>\n",
       "    <tr style=\"text-align: right;\">\n",
       "      <th></th>\n",
       "      <th>Chromosome</th>\n",
       "      <th>Start</th>\n",
       "      <th>End</th>\n",
       "      <th>Name</th>\n",
       "      <th>Score</th>\n",
       "      <th>Strand</th>\n",
       "      <th>ThickStart</th>\n",
       "      <th>ThickEnd</th>\n",
       "      <th>ItemRGB</th>\n",
       "      <th>BlockCount</th>\n",
       "      <th>region_id</th>\n",
       "    </tr>\n",
       "  </thead>\n",
       "  <tbody>\n",
       "    <tr>\n",
       "      <th>11562</th>\n",
       "      <td>chr16</td>\n",
       "      <td>69187096</td>\n",
       "      <td>69187214</td>\n",
       "      <td>ENSG00000168807_1</td>\n",
       "      <td>.</td>\n",
       "      <td>+</td>\n",
       "      <td>v40,v29,lapa,encode_cage,fantom_cage,pls</td>\n",
       "      <td>Known</td>\n",
       "      <td>ENSG00000168807</td>\n",
       "      <td>1</td>\n",
       "      <td>chr16_69187096_69187214</td>\n",
       "    </tr>\n",
       "    <tr>\n",
       "      <th>11687</th>\n",
       "      <td>chr16</td>\n",
       "      <td>69187096</td>\n",
       "      <td>69187214</td>\n",
       "      <td>ENSG00000260914_2</td>\n",
       "      <td>.</td>\n",
       "      <td>+</td>\n",
       "      <td>lapa,encode_cage,fantom_cage,pls</td>\n",
       "      <td>Novel</td>\n",
       "      <td>ENSG00000260914</td>\n",
       "      <td>2</td>\n",
       "      <td>chr16_69187096_69187214</td>\n",
       "    </tr>\n",
       "    <tr>\n",
       "      <th>13199</th>\n",
       "      <td>chr18</td>\n",
       "      <td>36187446</td>\n",
       "      <td>36187547</td>\n",
       "      <td>ENSG00000134759_16</td>\n",
       "      <td>.</td>\n",
       "      <td>+</td>\n",
       "      <td>lapa,encode_cage,fantom_cage,pls</td>\n",
       "      <td>Novel</td>\n",
       "      <td>ENSG00000134759</td>\n",
       "      <td>16</td>\n",
       "      <td>chr18_36187446_36187547</td>\n",
       "    </tr>\n",
       "    <tr>\n",
       "      <th>13153</th>\n",
       "      <td>chr18</td>\n",
       "      <td>36187446</td>\n",
       "      <td>36187547</td>\n",
       "      <td>ENSG00000075643_1</td>\n",
       "      <td>.</td>\n",
       "      <td>+</td>\n",
       "      <td>v40,v29,lapa,gtex,encode_cage,fantom_cage,pls</td>\n",
       "      <td>Known</td>\n",
       "      <td>ENSG00000075643</td>\n",
       "      <td>1</td>\n",
       "      <td>chr18_36187446_36187547</td>\n",
       "    </tr>\n",
       "    <tr>\n",
       "      <th>14212</th>\n",
       "      <td>chr19</td>\n",
       "      <td>46787764</td>\n",
       "      <td>46787865</td>\n",
       "      <td>ENSG00000105281_4</td>\n",
       "      <td>.</td>\n",
       "      <td>-</td>\n",
       "      <td>lapa,pls,pels</td>\n",
       "      <td>Novel</td>\n",
       "      <td>ENSG00000105281</td>\n",
       "      <td>4</td>\n",
       "      <td>chr19_46787764_46787865</td>\n",
       "    </tr>\n",
       "    <tr>\n",
       "      <th>14043</th>\n",
       "      <td>chr19</td>\n",
       "      <td>46787764</td>\n",
       "      <td>46787865</td>\n",
       "      <td>ENSG00000275719_1</td>\n",
       "      <td>.</td>\n",
       "      <td>+</td>\n",
       "      <td>v40,v29,lapa,pls,pels</td>\n",
       "      <td>Known</td>\n",
       "      <td>ENSG00000275719</td>\n",
       "      <td>1</td>\n",
       "      <td>chr19_46787764_46787865</td>\n",
       "    </tr>\n",
       "    <tr>\n",
       "      <th>1294</th>\n",
       "      <td>chr1</td>\n",
       "      <td>159925440</td>\n",
       "      <td>159925557</td>\n",
       "      <td>ENSG00000158710_1</td>\n",
       "      <td>.</td>\n",
       "      <td>-</td>\n",
       "      <td>v40,v29,lapa,gtex,encode_cage,fantom_cage,enco...</td>\n",
       "      <td>Known</td>\n",
       "      <td>ENSG00000158710</td>\n",
       "      <td>1</td>\n",
       "      <td>chr1_159925440_159925557</td>\n",
       "    </tr>\n",
       "    <tr>\n",
       "      <th>1537</th>\n",
       "      <td>chr1</td>\n",
       "      <td>159925440</td>\n",
       "      <td>159925557</td>\n",
       "      <td>ENSG00000213085_7</td>\n",
       "      <td>.</td>\n",
       "      <td>-</td>\n",
       "      <td>lapa,gtex,encode_cage,fantom_cage,encode_rampa...</td>\n",
       "      <td>Novel</td>\n",
       "      <td>ENSG00000213085</td>\n",
       "      <td>7</td>\n",
       "      <td>chr1_159925440_159925557</td>\n",
       "    </tr>\n",
       "    <tr>\n",
       "      <th>15454</th>\n",
       "      <td>chr22</td>\n",
       "      <td>16601426</td>\n",
       "      <td>16601527</td>\n",
       "      <td>ENSG00000283633_3</td>\n",
       "      <td>.</td>\n",
       "      <td>+</td>\n",
       "      <td>lapa,encode_cage,fantom_cage,encode_rampage,pels</td>\n",
       "      <td>Novel</td>\n",
       "      <td>ENSG00000283633</td>\n",
       "      <td>3</td>\n",
       "      <td>chr22_16601426_16601527</td>\n",
       "    </tr>\n",
       "    <tr>\n",
       "      <th>15281</th>\n",
       "      <td>chr22</td>\n",
       "      <td>16601426</td>\n",
       "      <td>16601527</td>\n",
       "      <td>ENSG00000100181_6</td>\n",
       "      <td>.</td>\n",
       "      <td>+</td>\n",
       "      <td>lapa,encode_cage,fantom_cage,encode_rampage,pels</td>\n",
       "      <td>Novel</td>\n",
       "      <td>ENSG00000100181</td>\n",
       "      <td>6</td>\n",
       "      <td>chr22_16601426_16601527</td>\n",
       "    </tr>\n",
       "    <tr>\n",
       "      <th>2449</th>\n",
       "      <td>chr2</td>\n",
       "      <td>73734541</td>\n",
       "      <td>73734642</td>\n",
       "      <td>ENSG00000144048_4</td>\n",
       "      <td>.</td>\n",
       "      <td>-</td>\n",
       "      <td>lapa</td>\n",
       "      <td>Novel</td>\n",
       "      <td>ENSG00000144048</td>\n",
       "      <td>4</td>\n",
       "      <td>chr2_73734541_73734642</td>\n",
       "    </tr>\n",
       "    <tr>\n",
       "      <th>2445</th>\n",
       "      <td>chr2</td>\n",
       "      <td>73734541</td>\n",
       "      <td>73734642</td>\n",
       "      <td>ENSG00000144034_3</td>\n",
       "      <td>.</td>\n",
       "      <td>-</td>\n",
       "      <td>lapa</td>\n",
       "      <td>Novel</td>\n",
       "      <td>ENSG00000144034</td>\n",
       "      <td>3</td>\n",
       "      <td>chr2_73734541_73734642</td>\n",
       "    </tr>\n",
       "    <tr>\n",
       "      <th>4473</th>\n",
       "      <td>chr5</td>\n",
       "      <td>69369772</td>\n",
       "      <td>69369873</td>\n",
       "      <td>ENSG00000085231_3</td>\n",
       "      <td>.</td>\n",
       "      <td>-</td>\n",
       "      <td>lapa,gtex,encode_cage,fantom_cage,encode_rampa...</td>\n",
       "      <td>Novel</td>\n",
       "      <td>ENSG00000085231</td>\n",
       "      <td>3</td>\n",
       "      <td>chr5_69369772_69369873</td>\n",
       "    </tr>\n",
       "    <tr>\n",
       "      <th>4769</th>\n",
       "      <td>chr5</td>\n",
       "      <td>69369772</td>\n",
       "      <td>69369873</td>\n",
       "      <td>ENSG00000273841_7</td>\n",
       "      <td>.</td>\n",
       "      <td>-</td>\n",
       "      <td>lapa,gtex,encode_cage,fantom_cage,encode_rampa...</td>\n",
       "      <td>Novel</td>\n",
       "      <td>ENSG00000273841</td>\n",
       "      <td>7</td>\n",
       "      <td>chr5_69369772_69369873</td>\n",
       "    </tr>\n",
       "    <tr>\n",
       "      <th>15667</th>\n",
       "      <td>chrM</td>\n",
       "      <td>2570</td>\n",
       "      <td>2671</td>\n",
       "      <td>ENSG00000198888_2</td>\n",
       "      <td>.</td>\n",
       "      <td>+</td>\n",
       "      <td>lapa,encode_cage,fantom_cage,encode_rampage</td>\n",
       "      <td>Novel</td>\n",
       "      <td>ENSG00000198888</td>\n",
       "      <td>2</td>\n",
       "      <td>chrM_2570_2671</td>\n",
       "    </tr>\n",
       "    <tr>\n",
       "      <th>15673</th>\n",
       "      <td>chrM</td>\n",
       "      <td>2570</td>\n",
       "      <td>2671</td>\n",
       "      <td>ENSG00000210082_4</td>\n",
       "      <td>.</td>\n",
       "      <td>+</td>\n",
       "      <td>lapa,encode_cage,fantom_cage,encode_rampage</td>\n",
       "      <td>Novel</td>\n",
       "      <td>ENSG00000210082</td>\n",
       "      <td>4</td>\n",
       "      <td>chrM_2570_2671</td>\n",
       "    </tr>\n",
       "    <tr>\n",
       "      <th>15669</th>\n",
       "      <td>chrM</td>\n",
       "      <td>8802</td>\n",
       "      <td>8903</td>\n",
       "      <td>ENSG00000198899_3</td>\n",
       "      <td>.</td>\n",
       "      <td>+</td>\n",
       "      <td>lapa,fantom_cage</td>\n",
       "      <td>Novel</td>\n",
       "      <td>ENSG00000198899</td>\n",
       "      <td>3</td>\n",
       "      <td>chrM_8802_8903</td>\n",
       "    </tr>\n",
       "    <tr>\n",
       "      <th>15671</th>\n",
       "      <td>chrM</td>\n",
       "      <td>8802</td>\n",
       "      <td>8903</td>\n",
       "      <td>ENSG00000198938_5</td>\n",
       "      <td>.</td>\n",
       "      <td>+</td>\n",
       "      <td>lapa,fantom_cage</td>\n",
       "      <td>Novel</td>\n",
       "      <td>ENSG00000198938</td>\n",
       "      <td>5</td>\n",
       "      <td>chrM_8802_8903</td>\n",
       "    </tr>\n",
       "    <tr>\n",
       "      <th>16139</th>\n",
       "      <td>chrX</td>\n",
       "      <td>155070926</td>\n",
       "      <td>155071027</td>\n",
       "      <td>ENSG00000182712_4</td>\n",
       "      <td>.</td>\n",
       "      <td>-</td>\n",
       "      <td>lapa,fantom_cage,pels</td>\n",
       "      <td>Novel</td>\n",
       "      <td>ENSG00000182712</td>\n",
       "      <td>4</td>\n",
       "      <td>chrX_155070926_155071027</td>\n",
       "    </tr>\n",
       "    <tr>\n",
       "      <th>16199</th>\n",
       "      <td>chrX</td>\n",
       "      <td>155070926</td>\n",
       "      <td>155071027</td>\n",
       "      <td>ENSG00000214827_5</td>\n",
       "      <td>.</td>\n",
       "      <td>-</td>\n",
       "      <td>lapa,fantom_cage,pels</td>\n",
       "      <td>Novel</td>\n",
       "      <td>ENSG00000214827</td>\n",
       "      <td>5</td>\n",
       "      <td>chrX_155070926_155071027</td>\n",
       "    </tr>\n",
       "    <tr>\n",
       "      <th>16198</th>\n",
       "      <td>chrX</td>\n",
       "      <td>155071085</td>\n",
       "      <td>155071186</td>\n",
       "      <td>ENSG00000214827_1</td>\n",
       "      <td>.</td>\n",
       "      <td>-</td>\n",
       "      <td>v40,v29,lapa,gtex,encode_cage,fantom_cage,enco...</td>\n",
       "      <td>Known</td>\n",
       "      <td>ENSG00000214827</td>\n",
       "      <td>1</td>\n",
       "      <td>chrX_155071085_155071186</td>\n",
       "    </tr>\n",
       "    <tr>\n",
       "      <th>16137</th>\n",
       "      <td>chrX</td>\n",
       "      <td>155071085</td>\n",
       "      <td>155071186</td>\n",
       "      <td>ENSG00000182712_1</td>\n",
       "      <td>.</td>\n",
       "      <td>-</td>\n",
       "      <td>v40,lapa,encode_cage,fantom_cage,encode_rampag...</td>\n",
       "      <td>Known</td>\n",
       "      <td>ENSG00000182712</td>\n",
       "      <td>1</td>\n",
       "      <td>chrX_155071085_155071186</td>\n",
       "    </tr>\n",
       "    <tr>\n",
       "      <th>15912</th>\n",
       "      <td>chrX</td>\n",
       "      <td>47483520</td>\n",
       "      <td>47483621</td>\n",
       "      <td>ENSG00000196741_1</td>\n",
       "      <td>.</td>\n",
       "      <td>+</td>\n",
       "      <td>v40,v29,lapa,pls</td>\n",
       "      <td>Known</td>\n",
       "      <td>ENSG00000196741</td>\n",
       "      <td>1</td>\n",
       "      <td>chrX_47483520_47483621</td>\n",
       "    </tr>\n",
       "    <tr>\n",
       "      <th>16091</th>\n",
       "      <td>chrX</td>\n",
       "      <td>47483520</td>\n",
       "      <td>47483621</td>\n",
       "      <td>ENSG00000147124_5</td>\n",
       "      <td>.</td>\n",
       "      <td>-</td>\n",
       "      <td>lapa,pls</td>\n",
       "      <td>Novel</td>\n",
       "      <td>ENSG00000147124</td>\n",
       "      <td>5</td>\n",
       "      <td>chrX_47483520_47483621</td>\n",
       "    </tr>\n",
       "    <tr>\n",
       "      <th>15910</th>\n",
       "      <td>chrX</td>\n",
       "      <td>49589445</td>\n",
       "      <td>49589546</td>\n",
       "      <td>ENSG00000189064_1</td>\n",
       "      <td>.</td>\n",
       "      <td>+</td>\n",
       "      <td>v40,v29,lapa,gtex</td>\n",
       "      <td>Known</td>\n",
       "      <td>ENSG00000189064</td>\n",
       "      <td>1</td>\n",
       "      <td>chrX_49589445_49589546</td>\n",
       "    </tr>\n",
       "    <tr>\n",
       "      <th>15932</th>\n",
       "      <td>chrX</td>\n",
       "      <td>49589445</td>\n",
       "      <td>49589546</td>\n",
       "      <td>ENSG00000205777_2</td>\n",
       "      <td>.</td>\n",
       "      <td>+</td>\n",
       "      <td>v29,lapa,gtex</td>\n",
       "      <td>Known</td>\n",
       "      <td>ENSG00000205777</td>\n",
       "      <td>2</td>\n",
       "      <td>chrX_49589445_49589546</td>\n",
       "    </tr>\n",
       "  </tbody>\n",
       "</table>\n",
       "</div>"
      ],
      "text/plain": [
       "      Chromosome      Start        End                Name Score Strand  \\\n",
       "11562      chr16   69187096   69187214   ENSG00000168807_1     .      +   \n",
       "11687      chr16   69187096   69187214   ENSG00000260914_2     .      +   \n",
       "13199      chr18   36187446   36187547  ENSG00000134759_16     .      +   \n",
       "13153      chr18   36187446   36187547   ENSG00000075643_1     .      +   \n",
       "14212      chr19   46787764   46787865   ENSG00000105281_4     .      -   \n",
       "14043      chr19   46787764   46787865   ENSG00000275719_1     .      +   \n",
       "1294        chr1  159925440  159925557   ENSG00000158710_1     .      -   \n",
       "1537        chr1  159925440  159925557   ENSG00000213085_7     .      -   \n",
       "15454      chr22   16601426   16601527   ENSG00000283633_3     .      +   \n",
       "15281      chr22   16601426   16601527   ENSG00000100181_6     .      +   \n",
       "2449        chr2   73734541   73734642   ENSG00000144048_4     .      -   \n",
       "2445        chr2   73734541   73734642   ENSG00000144034_3     .      -   \n",
       "4473        chr5   69369772   69369873   ENSG00000085231_3     .      -   \n",
       "4769        chr5   69369772   69369873   ENSG00000273841_7     .      -   \n",
       "15667       chrM       2570       2671   ENSG00000198888_2     .      +   \n",
       "15673       chrM       2570       2671   ENSG00000210082_4     .      +   \n",
       "15669       chrM       8802       8903   ENSG00000198899_3     .      +   \n",
       "15671       chrM       8802       8903   ENSG00000198938_5     .      +   \n",
       "16139       chrX  155070926  155071027   ENSG00000182712_4     .      -   \n",
       "16199       chrX  155070926  155071027   ENSG00000214827_5     .      -   \n",
       "16198       chrX  155071085  155071186   ENSG00000214827_1     .      -   \n",
       "16137       chrX  155071085  155071186   ENSG00000182712_1     .      -   \n",
       "15912       chrX   47483520   47483621   ENSG00000196741_1     .      +   \n",
       "16091       chrX   47483520   47483621   ENSG00000147124_5     .      -   \n",
       "15910       chrX   49589445   49589546   ENSG00000189064_1     .      +   \n",
       "15932       chrX   49589445   49589546   ENSG00000205777_2     .      +   \n",
       "\n",
       "                                              ThickStart ThickEnd  \\\n",
       "11562           v40,v29,lapa,encode_cage,fantom_cage,pls    Known   \n",
       "11687                   lapa,encode_cage,fantom_cage,pls    Novel   \n",
       "13199                   lapa,encode_cage,fantom_cage,pls    Novel   \n",
       "13153      v40,v29,lapa,gtex,encode_cage,fantom_cage,pls    Known   \n",
       "14212                                      lapa,pls,pels    Novel   \n",
       "14043                              v40,v29,lapa,pls,pels    Known   \n",
       "1294   v40,v29,lapa,gtex,encode_cage,fantom_cage,enco...    Known   \n",
       "1537   lapa,gtex,encode_cage,fantom_cage,encode_rampa...    Novel   \n",
       "15454   lapa,encode_cage,fantom_cage,encode_rampage,pels    Novel   \n",
       "15281   lapa,encode_cage,fantom_cage,encode_rampage,pels    Novel   \n",
       "2449                                                lapa    Novel   \n",
       "2445                                                lapa    Novel   \n",
       "4473   lapa,gtex,encode_cage,fantom_cage,encode_rampa...    Novel   \n",
       "4769   lapa,gtex,encode_cage,fantom_cage,encode_rampa...    Novel   \n",
       "15667        lapa,encode_cage,fantom_cage,encode_rampage    Novel   \n",
       "15673        lapa,encode_cage,fantom_cage,encode_rampage    Novel   \n",
       "15669                                   lapa,fantom_cage    Novel   \n",
       "15671                                   lapa,fantom_cage    Novel   \n",
       "16139                              lapa,fantom_cage,pels    Novel   \n",
       "16199                              lapa,fantom_cage,pels    Novel   \n",
       "16198  v40,v29,lapa,gtex,encode_cage,fantom_cage,enco...    Known   \n",
       "16137  v40,lapa,encode_cage,fantom_cage,encode_rampag...    Known   \n",
       "15912                                   v40,v29,lapa,pls    Known   \n",
       "16091                                           lapa,pls    Novel   \n",
       "15910                                  v40,v29,lapa,gtex    Known   \n",
       "15932                                      v29,lapa,gtex    Known   \n",
       "\n",
       "               ItemRGB  BlockCount                 region_id  \n",
       "11562  ENSG00000168807           1   chr16_69187096_69187214  \n",
       "11687  ENSG00000260914           2   chr16_69187096_69187214  \n",
       "13199  ENSG00000134759          16   chr18_36187446_36187547  \n",
       "13153  ENSG00000075643           1   chr18_36187446_36187547  \n",
       "14212  ENSG00000105281           4   chr19_46787764_46787865  \n",
       "14043  ENSG00000275719           1   chr19_46787764_46787865  \n",
       "1294   ENSG00000158710           1  chr1_159925440_159925557  \n",
       "1537   ENSG00000213085           7  chr1_159925440_159925557  \n",
       "15454  ENSG00000283633           3   chr22_16601426_16601527  \n",
       "15281  ENSG00000100181           6   chr22_16601426_16601527  \n",
       "2449   ENSG00000144048           4    chr2_73734541_73734642  \n",
       "2445   ENSG00000144034           3    chr2_73734541_73734642  \n",
       "4473   ENSG00000085231           3    chr5_69369772_69369873  \n",
       "4769   ENSG00000273841           7    chr5_69369772_69369873  \n",
       "15667  ENSG00000198888           2            chrM_2570_2671  \n",
       "15673  ENSG00000210082           4            chrM_2570_2671  \n",
       "15669  ENSG00000198899           3            chrM_8802_8903  \n",
       "15671  ENSG00000198938           5            chrM_8802_8903  \n",
       "16139  ENSG00000182712           4  chrX_155070926_155071027  \n",
       "16199  ENSG00000214827           5  chrX_155070926_155071027  \n",
       "16198  ENSG00000214827           1  chrX_155071085_155071186  \n",
       "16137  ENSG00000182712           1  chrX_155071085_155071186  \n",
       "15912  ENSG00000196741           1    chrX_47483520_47483621  \n",
       "16091  ENSG00000147124           5    chrX_47483520_47483621  \n",
       "15910  ENSG00000189064           1    chrX_49589445_49589546  \n",
       "15932  ENSG00000205777           2    chrX_49589445_49589546  "
      ]
     },
     "execution_count": 148,
     "metadata": {},
     "output_type": "execute_result"
    }
   ],
   "source": [
    "df = pr.read_bed('data/human/lr/k562_1.bed').df\n",
    "def make_unique_region_id(df):\n",
    "        \"\"\"\n",
    "        Make a unique region ID for BED regions that don't \n",
    "        alread have unique identifiers\n",
    "        \"\"\"\n",
    "        df['region_id'] = df['Chromosome'].astype(str)+'_'+\\\n",
    "                          df['Start'].astype(str)+'_'+\\\n",
    "                          df['End'].astype(str)#+'_'+\\\n",
    "                          #df['Strand'].astype(str)\n",
    "        return df\n",
    "df = make_unique_region_id(df)\n",
    "df.loc[df.region_id.duplicated(keep=False)].sort_values(by='region_id')"
   ]
  },
  {
   "cell_type": "code",
   "execution_count": 142,
   "id": "9de6f9b6-3522-4e46-b737-3f3f5c4fa4c2",
   "metadata": {},
   "outputs": [
    {
     "name": "stdout",
     "output_type": "stream",
     "text": [
      "16228\n",
      "16215\n"
     ]
    },
    {
     "data": {
      "text/html": [
       "<div>\n",
       "<style scoped>\n",
       "    .dataframe tbody tr th:only-of-type {\n",
       "        vertical-align: middle;\n",
       "    }\n",
       "\n",
       "    .dataframe tbody tr th {\n",
       "        vertical-align: top;\n",
       "    }\n",
       "\n",
       "    .dataframe thead th {\n",
       "        text-align: right;\n",
       "    }\n",
       "</style>\n",
       "<table border=\"1\" class=\"dataframe\">\n",
       "  <thead>\n",
       "    <tr style=\"text-align: right;\">\n",
       "      <th></th>\n",
       "      <th>Chromosome</th>\n",
       "      <th>Start</th>\n",
       "      <th>End</th>\n",
       "      <th>assay</th>\n",
       "      <th>biosample</th>\n",
       "      <th>rep</th>\n",
       "      <th>output</th>\n",
       "    </tr>\n",
       "  </thead>\n",
       "  <tbody>\n",
       "    <tr>\n",
       "      <th>0</th>\n",
       "      <td>chr1</td>\n",
       "      <td>169794989</td>\n",
       "      <td>169795129</td>\n",
       "      <td>lr</td>\n",
       "      <td>k562</td>\n",
       "      <td>1</td>\n",
       "      <td>NaN</td>\n",
       "    </tr>\n",
       "    <tr>\n",
       "      <th>1</th>\n",
       "      <td>chr1</td>\n",
       "      <td>169794679</td>\n",
       "      <td>169794780</td>\n",
       "      <td>lr</td>\n",
       "      <td>k562</td>\n",
       "      <td>1</td>\n",
       "      <td>NaN</td>\n",
       "    </tr>\n",
       "    <tr>\n",
       "      <th>2</th>\n",
       "      <td>chr1</td>\n",
       "      <td>196651703</td>\n",
       "      <td>196652106</td>\n",
       "      <td>lr</td>\n",
       "      <td>k562</td>\n",
       "      <td>1</td>\n",
       "      <td>NaN</td>\n",
       "    </tr>\n",
       "    <tr>\n",
       "      <th>3</th>\n",
       "      <td>chr1</td>\n",
       "      <td>24415751</td>\n",
       "      <td>24415908</td>\n",
       "      <td>lr</td>\n",
       "      <td>k562</td>\n",
       "      <td>1</td>\n",
       "      <td>NaN</td>\n",
       "    </tr>\n",
       "    <tr>\n",
       "      <th>4</th>\n",
       "      <td>chr1</td>\n",
       "      <td>23019392</td>\n",
       "      <td>23019518</td>\n",
       "      <td>lr</td>\n",
       "      <td>k562</td>\n",
       "      <td>1</td>\n",
       "      <td>NaN</td>\n",
       "    </tr>\n",
       "  </tbody>\n",
       "</table>\n",
       "</div>"
      ],
      "text/plain": [
       "  Chromosome      Start        End assay biosample  rep  output\n",
       "0       chr1  169794989  169795129    lr      k562    1     NaN\n",
       "1       chr1  169794679  169794780    lr      k562    1     NaN\n",
       "2       chr1  196651703  196652106    lr      k562    1     NaN\n",
       "3       chr1   24415751   24415908    lr      k562    1     NaN\n",
       "4       chr1   23019392   23019518    lr      k562    1     NaN"
      ]
     },
     "execution_count": 142,
     "metadata": {},
     "output_type": "execute_result"
    }
   ],
   "source": [
    "df = pd.read_csv('data/human/lr/k562_1_formatted.bed', sep='\\t')\n",
    "print(len(df.index))\n",
    "print(len(df.drop_duplicates().index))\n",
    "df.head()"
   ]
  },
  {
   "cell_type": "code",
   "execution_count": 138,
   "id": "57e4b936-c786-4e37-aa8c-49a530248ec0",
   "metadata": {},
   "outputs": [
    {
     "data": {
      "text/html": [
       "<div>\n",
       "<style scoped>\n",
       "    .dataframe tbody tr th:only-of-type {\n",
       "        vertical-align: middle;\n",
       "    }\n",
       "\n",
       "    .dataframe tbody tr th {\n",
       "        vertical-align: top;\n",
       "    }\n",
       "\n",
       "    .dataframe thead th {\n",
       "        text-align: right;\n",
       "    }\n",
       "</style>\n",
       "<table border=\"1\" class=\"dataframe\">\n",
       "  <thead>\n",
       "    <tr style=\"text-align: right;\">\n",
       "      <th></th>\n",
       "      <th>Chromosome</th>\n",
       "      <th>Start</th>\n",
       "      <th>End</th>\n",
       "      <th>Name</th>\n",
       "      <th>Score</th>\n",
       "      <th>Strand</th>\n",
       "      <th>ThickStart</th>\n",
       "      <th>ThickEnd</th>\n",
       "    </tr>\n",
       "  </thead>\n",
       "  <tbody>\n",
       "    <tr>\n",
       "      <th>11562</th>\n",
       "      <td>chr16</td>\n",
       "      <td>69187096</td>\n",
       "      <td>69187214</td>\n",
       "      <td>.</td>\n",
       "      <td>.</td>\n",
       "      <td>.</td>\n",
       "      <td>lr</td>\n",
       "      <td>lr_chr16_69187096_69187214</td>\n",
       "    </tr>\n",
       "    <tr>\n",
       "      <th>11687</th>\n",
       "      <td>chr16</td>\n",
       "      <td>69187096</td>\n",
       "      <td>69187214</td>\n",
       "      <td>.</td>\n",
       "      <td>.</td>\n",
       "      <td>.</td>\n",
       "      <td>lr</td>\n",
       "      <td>lr_chr16_69187096_69187214</td>\n",
       "    </tr>\n",
       "    <tr>\n",
       "      <th>13199</th>\n",
       "      <td>chr18</td>\n",
       "      <td>36187446</td>\n",
       "      <td>36187547</td>\n",
       "      <td>.</td>\n",
       "      <td>.</td>\n",
       "      <td>.</td>\n",
       "      <td>lr</td>\n",
       "      <td>lr_chr18_36187446_36187547</td>\n",
       "    </tr>\n",
       "    <tr>\n",
       "      <th>13153</th>\n",
       "      <td>chr18</td>\n",
       "      <td>36187446</td>\n",
       "      <td>36187547</td>\n",
       "      <td>.</td>\n",
       "      <td>.</td>\n",
       "      <td>.</td>\n",
       "      <td>lr</td>\n",
       "      <td>lr_chr18_36187446_36187547</td>\n",
       "    </tr>\n",
       "    <tr>\n",
       "      <th>14212</th>\n",
       "      <td>chr19</td>\n",
       "      <td>46787764</td>\n",
       "      <td>46787865</td>\n",
       "      <td>.</td>\n",
       "      <td>.</td>\n",
       "      <td>.</td>\n",
       "      <td>lr</td>\n",
       "      <td>lr_chr19_46787764_46787865</td>\n",
       "    </tr>\n",
       "    <tr>\n",
       "      <th>14043</th>\n",
       "      <td>chr19</td>\n",
       "      <td>46787764</td>\n",
       "      <td>46787865</td>\n",
       "      <td>.</td>\n",
       "      <td>.</td>\n",
       "      <td>.</td>\n",
       "      <td>lr</td>\n",
       "      <td>lr_chr19_46787764_46787865</td>\n",
       "    </tr>\n",
       "    <tr>\n",
       "      <th>1294</th>\n",
       "      <td>chr1</td>\n",
       "      <td>159925440</td>\n",
       "      <td>159925557</td>\n",
       "      <td>.</td>\n",
       "      <td>.</td>\n",
       "      <td>.</td>\n",
       "      <td>lr</td>\n",
       "      <td>lr_chr1_159925440_159925557</td>\n",
       "    </tr>\n",
       "    <tr>\n",
       "      <th>1537</th>\n",
       "      <td>chr1</td>\n",
       "      <td>159925440</td>\n",
       "      <td>159925557</td>\n",
       "      <td>.</td>\n",
       "      <td>.</td>\n",
       "      <td>.</td>\n",
       "      <td>lr</td>\n",
       "      <td>lr_chr1_159925440_159925557</td>\n",
       "    </tr>\n",
       "    <tr>\n",
       "      <th>15454</th>\n",
       "      <td>chr22</td>\n",
       "      <td>16601426</td>\n",
       "      <td>16601527</td>\n",
       "      <td>.</td>\n",
       "      <td>.</td>\n",
       "      <td>.</td>\n",
       "      <td>lr</td>\n",
       "      <td>lr_chr22_16601426_16601527</td>\n",
       "    </tr>\n",
       "    <tr>\n",
       "      <th>15281</th>\n",
       "      <td>chr22</td>\n",
       "      <td>16601426</td>\n",
       "      <td>16601527</td>\n",
       "      <td>.</td>\n",
       "      <td>.</td>\n",
       "      <td>.</td>\n",
       "      <td>lr</td>\n",
       "      <td>lr_chr22_16601426_16601527</td>\n",
       "    </tr>\n",
       "    <tr>\n",
       "      <th>2449</th>\n",
       "      <td>chr2</td>\n",
       "      <td>73734541</td>\n",
       "      <td>73734642</td>\n",
       "      <td>.</td>\n",
       "      <td>.</td>\n",
       "      <td>.</td>\n",
       "      <td>lr</td>\n",
       "      <td>lr_chr2_73734541_73734642</td>\n",
       "    </tr>\n",
       "    <tr>\n",
       "      <th>2445</th>\n",
       "      <td>chr2</td>\n",
       "      <td>73734541</td>\n",
       "      <td>73734642</td>\n",
       "      <td>.</td>\n",
       "      <td>.</td>\n",
       "      <td>.</td>\n",
       "      <td>lr</td>\n",
       "      <td>lr_chr2_73734541_73734642</td>\n",
       "    </tr>\n",
       "    <tr>\n",
       "      <th>4473</th>\n",
       "      <td>chr5</td>\n",
       "      <td>69369772</td>\n",
       "      <td>69369873</td>\n",
       "      <td>.</td>\n",
       "      <td>.</td>\n",
       "      <td>.</td>\n",
       "      <td>lr</td>\n",
       "      <td>lr_chr5_69369772_69369873</td>\n",
       "    </tr>\n",
       "    <tr>\n",
       "      <th>4769</th>\n",
       "      <td>chr5</td>\n",
       "      <td>69369772</td>\n",
       "      <td>69369873</td>\n",
       "      <td>.</td>\n",
       "      <td>.</td>\n",
       "      <td>.</td>\n",
       "      <td>lr</td>\n",
       "      <td>lr_chr5_69369772_69369873</td>\n",
       "    </tr>\n",
       "    <tr>\n",
       "      <th>15667</th>\n",
       "      <td>chrM</td>\n",
       "      <td>2570</td>\n",
       "      <td>2671</td>\n",
       "      <td>.</td>\n",
       "      <td>.</td>\n",
       "      <td>.</td>\n",
       "      <td>lr</td>\n",
       "      <td>lr_chrM_2570_2671</td>\n",
       "    </tr>\n",
       "    <tr>\n",
       "      <th>15673</th>\n",
       "      <td>chrM</td>\n",
       "      <td>2570</td>\n",
       "      <td>2671</td>\n",
       "      <td>.</td>\n",
       "      <td>.</td>\n",
       "      <td>.</td>\n",
       "      <td>lr</td>\n",
       "      <td>lr_chrM_2570_2671</td>\n",
       "    </tr>\n",
       "    <tr>\n",
       "      <th>15669</th>\n",
       "      <td>chrM</td>\n",
       "      <td>8802</td>\n",
       "      <td>8903</td>\n",
       "      <td>.</td>\n",
       "      <td>.</td>\n",
       "      <td>.</td>\n",
       "      <td>lr</td>\n",
       "      <td>lr_chrM_8802_8903</td>\n",
       "    </tr>\n",
       "    <tr>\n",
       "      <th>15671</th>\n",
       "      <td>chrM</td>\n",
       "      <td>8802</td>\n",
       "      <td>8903</td>\n",
       "      <td>.</td>\n",
       "      <td>.</td>\n",
       "      <td>.</td>\n",
       "      <td>lr</td>\n",
       "      <td>lr_chrM_8802_8903</td>\n",
       "    </tr>\n",
       "    <tr>\n",
       "      <th>16139</th>\n",
       "      <td>chrX</td>\n",
       "      <td>155070926</td>\n",
       "      <td>155071027</td>\n",
       "      <td>.</td>\n",
       "      <td>.</td>\n",
       "      <td>.</td>\n",
       "      <td>lr</td>\n",
       "      <td>lr_chrX_155070926_155071027</td>\n",
       "    </tr>\n",
       "    <tr>\n",
       "      <th>16199</th>\n",
       "      <td>chrX</td>\n",
       "      <td>155070926</td>\n",
       "      <td>155071027</td>\n",
       "      <td>.</td>\n",
       "      <td>.</td>\n",
       "      <td>.</td>\n",
       "      <td>lr</td>\n",
       "      <td>lr_chrX_155070926_155071027</td>\n",
       "    </tr>\n",
       "    <tr>\n",
       "      <th>16198</th>\n",
       "      <td>chrX</td>\n",
       "      <td>155071085</td>\n",
       "      <td>155071186</td>\n",
       "      <td>.</td>\n",
       "      <td>.</td>\n",
       "      <td>.</td>\n",
       "      <td>lr</td>\n",
       "      <td>lr_chrX_155071085_155071186</td>\n",
       "    </tr>\n",
       "    <tr>\n",
       "      <th>16137</th>\n",
       "      <td>chrX</td>\n",
       "      <td>155071085</td>\n",
       "      <td>155071186</td>\n",
       "      <td>.</td>\n",
       "      <td>.</td>\n",
       "      <td>.</td>\n",
       "      <td>lr</td>\n",
       "      <td>lr_chrX_155071085_155071186</td>\n",
       "    </tr>\n",
       "    <tr>\n",
       "      <th>15912</th>\n",
       "      <td>chrX</td>\n",
       "      <td>47483520</td>\n",
       "      <td>47483621</td>\n",
       "      <td>.</td>\n",
       "      <td>.</td>\n",
       "      <td>.</td>\n",
       "      <td>lr</td>\n",
       "      <td>lr_chrX_47483520_47483621</td>\n",
       "    </tr>\n",
       "    <tr>\n",
       "      <th>16091</th>\n",
       "      <td>chrX</td>\n",
       "      <td>47483520</td>\n",
       "      <td>47483621</td>\n",
       "      <td>.</td>\n",
       "      <td>.</td>\n",
       "      <td>.</td>\n",
       "      <td>lr</td>\n",
       "      <td>lr_chrX_47483520_47483621</td>\n",
       "    </tr>\n",
       "    <tr>\n",
       "      <th>15910</th>\n",
       "      <td>chrX</td>\n",
       "      <td>49589445</td>\n",
       "      <td>49589546</td>\n",
       "      <td>.</td>\n",
       "      <td>.</td>\n",
       "      <td>.</td>\n",
       "      <td>lr</td>\n",
       "      <td>lr_chrX_49589445_49589546</td>\n",
       "    </tr>\n",
       "    <tr>\n",
       "      <th>15932</th>\n",
       "      <td>chrX</td>\n",
       "      <td>49589445</td>\n",
       "      <td>49589546</td>\n",
       "      <td>.</td>\n",
       "      <td>.</td>\n",
       "      <td>.</td>\n",
       "      <td>lr</td>\n",
       "      <td>lr_chrX_49589445_49589546</td>\n",
       "    </tr>\n",
       "  </tbody>\n",
       "</table>\n",
       "</div>"
      ],
      "text/plain": [
       "      Chromosome      Start        End Name Score Strand ThickStart  \\\n",
       "11562      chr16   69187096   69187214    .     .      .         lr   \n",
       "11687      chr16   69187096   69187214    .     .      .         lr   \n",
       "13199      chr18   36187446   36187547    .     .      .         lr   \n",
       "13153      chr18   36187446   36187547    .     .      .         lr   \n",
       "14212      chr19   46787764   46787865    .     .      .         lr   \n",
       "14043      chr19   46787764   46787865    .     .      .         lr   \n",
       "1294        chr1  159925440  159925557    .     .      .         lr   \n",
       "1537        chr1  159925440  159925557    .     .      .         lr   \n",
       "15454      chr22   16601426   16601527    .     .      .         lr   \n",
       "15281      chr22   16601426   16601527    .     .      .         lr   \n",
       "2449        chr2   73734541   73734642    .     .      .         lr   \n",
       "2445        chr2   73734541   73734642    .     .      .         lr   \n",
       "4473        chr5   69369772   69369873    .     .      .         lr   \n",
       "4769        chr5   69369772   69369873    .     .      .         lr   \n",
       "15667       chrM       2570       2671    .     .      .         lr   \n",
       "15673       chrM       2570       2671    .     .      .         lr   \n",
       "15669       chrM       8802       8903    .     .      .         lr   \n",
       "15671       chrM       8802       8903    .     .      .         lr   \n",
       "16139       chrX  155070926  155071027    .     .      .         lr   \n",
       "16199       chrX  155070926  155071027    .     .      .         lr   \n",
       "16198       chrX  155071085  155071186    .     .      .         lr   \n",
       "16137       chrX  155071085  155071186    .     .      .         lr   \n",
       "15912       chrX   47483520   47483621    .     .      .         lr   \n",
       "16091       chrX   47483520   47483621    .     .      .         lr   \n",
       "15910       chrX   49589445   49589546    .     .      .         lr   \n",
       "15932       chrX   49589445   49589546    .     .      .         lr   \n",
       "\n",
       "                          ThickEnd  \n",
       "11562   lr_chr16_69187096_69187214  \n",
       "11687   lr_chr16_69187096_69187214  \n",
       "13199   lr_chr18_36187446_36187547  \n",
       "13153   lr_chr18_36187446_36187547  \n",
       "14212   lr_chr19_46787764_46787865  \n",
       "14043   lr_chr19_46787764_46787865  \n",
       "1294   lr_chr1_159925440_159925557  \n",
       "1537   lr_chr1_159925440_159925557  \n",
       "15454   lr_chr22_16601426_16601527  \n",
       "15281   lr_chr22_16601426_16601527  \n",
       "2449     lr_chr2_73734541_73734642  \n",
       "2445     lr_chr2_73734541_73734642  \n",
       "4473     lr_chr5_69369772_69369873  \n",
       "4769     lr_chr5_69369772_69369873  \n",
       "15667            lr_chrM_2570_2671  \n",
       "15673            lr_chrM_2570_2671  \n",
       "15669            lr_chrM_8802_8903  \n",
       "15671            lr_chrM_8802_8903  \n",
       "16139  lr_chrX_155070926_155071027  \n",
       "16199  lr_chrX_155070926_155071027  \n",
       "16198  lr_chrX_155071085_155071186  \n",
       "16137  lr_chrX_155071085_155071186  \n",
       "15912    lr_chrX_47483520_47483621  \n",
       "16091    lr_chrX_47483520_47483621  \n",
       "15910    lr_chrX_49589445_49589546  \n",
       "15932    lr_chrX_49589445_49589546  "
      ]
     },
     "execution_count": 138,
     "metadata": {},
     "output_type": "execute_result"
    }
   ],
   "source": [
    "df = pr.read_bed('test_bed_2.bed').df\n",
    "df.loc[df.ThickEnd.duplicated(keep=False)].sort_values(by='ThickEnd')"
   ]
  },
  {
   "cell_type": "code",
   "execution_count": null,
   "id": "73310647-2af2-48cd-b886-2ef08da2723b",
   "metadata": {},
   "outputs": [],
   "source": []
  },
  {
   "cell_type": "code",
   "execution_count": null,
   "id": "51c4f744-2d03-4716-88c8-64c8ac21ea81",
   "metadata": {},
   "outputs": [],
   "source": []
  },
  {
   "cell_type": "code",
   "execution_count": null,
   "id": "4d8f6ac2-2a16-474f-8f6f-988785762ae0",
   "metadata": {},
   "outputs": [],
   "source": []
  },
  {
   "cell_type": "code",
   "execution_count": null,
   "id": "f37c73bd-6b83-4ab4-bdcd-cba53ced44ab",
   "metadata": {},
   "outputs": [],
   "source": []
  },
  {
   "cell_type": "code",
   "execution_count": null,
   "id": "e36e6a1b-e34b-44e2-8b86-8aced04b8d2e",
   "metadata": {},
   "outputs": [],
   "source": []
  },
  {
   "cell_type": "code",
   "execution_count": 122,
   "id": "694e5ce2-7201-4359-bf90-80166d360aae",
   "metadata": {},
   "outputs": [
    {
     "data": {
      "text/plain": [
       "['test_bed_1.bed', 'test_bed_2.bed', 'test_bed_3.bed']"
      ]
     },
     "execution_count": 122,
     "metadata": {},
     "output_type": "execute_result"
    }
   ],
   "source": [
    "input_files"
   ]
  },
  {
   "cell_type": "code",
   "execution_count": 124,
   "id": "bc3026b0-c77d-4a27-b065-73f241946efc",
   "metadata": {},
   "outputs": [
    {
     "data": {
      "text/plain": [
       "<matplotlib_venn._common.VennDiagram at 0x7f93d5719c10>"
      ]
     },
     "execution_count": 124,
     "metadata": {},
     "output_type": "execute_result"
    },
    {
     "data": {
      "image/png": "[encoded data removed]",
      "text/plain": [
       "<Figure size 432x288 with 1 Axes>"
      ]
     },
     "metadata": {},
     "output_type": "display_data"
    }
   ],
   "source": [
    "# a673 procap\n",
    "venn3(weights, set_labels=['ProCap', 'LR', 'cCRE'])"
   ]
  },
  {
   "cell_type": "code",
   "execution_count": 125,
   "id": "17c3e513-a7fe-4d43-974d-0bcab8b7be2e",
   "metadata": {},
   "outputs": [
    {
     "data": {
      "text/plain": [
       "15157"
      ]
     },
     "execution_count": 125,
     "metadata": {},
     "output_type": "execute_result"
    }
   ],
   "source": [
    "3511+1908+652+9086 #lr"
   ]
  },
  {
   "cell_type": "code",
   "execution_count": 126,
   "id": "75a78f43-8e2c-4387-a91e-4a5eae9c9f86",
   "metadata": {},
   "outputs": [
    {
     "data": {
      "text/plain": [
       "64364"
      ]
     },
     "execution_count": 126,
     "metadata": {},
     "output_type": "execute_result"
    }
   ],
   "source": [
    "7874+9086+19098+28306 # ccre"
   ]
  },
  {
   "cell_type": "code",
   "execution_count": 114,
   "id": "fdd59b3b-cbc3-4062-a8dc-36df6a42daa1",
   "metadata": {},
   "outputs": [
    {
     "data": {
      "text/plain": [
       "<matplotlib_venn._common.VennDiagram at 0x7f94309030d0>"
      ]
     },
     "execution_count": 114,
     "metadata": {},
     "output_type": "execute_result"
    },
    {
     "data": {
      "image/png": "[encoded data removed]",
      "text/plain": [
       "<Figure size 432x288 with 1 Axes>"
      ]
     },
     "metadata": {},
     "output_type": "display_data"
    }
   ],
   "source": [
    "# mcf10a procap\n",
    "venn3(weights, set_labels=['ProCap', 'LR', 'cCRE'])"
   ]
  },
  {
   "cell_type": "code",
   "execution_count": 127,
   "id": "93633df3-b929-487e-b319-16a25a41a9eb",
   "metadata": {},
   "outputs": [
    {
     "data": {
      "text/plain": [
       "14928"
      ]
     },
     "execution_count": 127,
     "metadata": {},
     "output_type": "execute_result"
    }
   ],
   "source": [
    "706+3399+9238+1585#lr"
   ]
  },
  {
   "cell_type": "code",
   "execution_count": 131,
   "id": "02004171-2fe9-403e-82a2-5fbe34426333",
   "metadata": {},
   "outputs": [
    {
     "data": {
      "text/plain": [
       "46671"
      ]
     },
     "execution_count": 131,
     "metadata": {},
     "output_type": "execute_result"
    }
   ],
   "source": [
    "8271+9238+1585+27577# ccre"
   ]
  },
  {
   "cell_type": "code",
   "execution_count": 102,
   "id": "b177cea3-4209-4b5c-9521-b9344efd8863",
   "metadata": {},
   "outputs": [
    {
     "data": {
      "text/plain": [
       "<matplotlib_venn._common.VennDiagram at 0x7f93d2ea6190>"
      ]
     },
     "execution_count": 102,
     "metadata": {},
     "output_type": "execute_result"
    },
    {
     "data": {
      "image/png": "[encoded data removed]",
      "text/plain": [
       "<Figure size 432x288 with 1 Axes>"
      ]
     },
     "metadata": {},
     "output_type": "display_data"
    }
   ],
   "source": [
    "# k562 procap\n",
    "venn3(weights, set_labels=['ProCap', 'LR', 'cCRE'])"
   ]
  },
  {
   "cell_type": "code",
   "execution_count": 132,
   "id": "e5624612-ce85-4e26-906e-dbfd3b262b65",
   "metadata": {},
   "outputs": [
    {
     "data": {
      "text/plain": [
       "15198"
      ]
     },
     "execution_count": 132,
     "metadata": {},
     "output_type": "execute_result"
    }
   ],
   "source": [
    "547+3676+2825+8150# lr"
   ]
  },
  {
   "cell_type": "code",
   "execution_count": 133,
   "id": "fc830125-e96d-45b9-8413-5227e68b9f05",
   "metadata": {},
   "outputs": [
    {
     "data": {
      "text/plain": [
       "46919"
      ]
     },
     "execution_count": 133,
     "metadata": {},
     "output_type": "execute_result"
    }
   ],
   "source": [
    "3031+8150+2825+32913 #ccre"
   ]
  },
  {
   "cell_type": "code",
   "execution_count": 89,
   "id": "8974595e-be30-48d0-acee-e753d2f17e79",
   "metadata": {},
   "outputs": [],
   "source": [
    "from matplotlib_venn import venn3\n"
   ]
  },
  {
   "cell_type": "code",
   "execution_count": null,
   "id": "cc2c09cb-f487-40d7-8fc0-594ab0a274d9",
   "metadata": {},
   "outputs": [],
   "source": []
  },
  {
   "cell_type": "code",
   "execution_count": 75,
   "id": "bf0597f2-445d-4be9-ad41-7286ea186302",
   "metadata": {},
   "outputs": [],
   "source": [
    "# def three_way_intersect(f1,\n",
    "#                         f1_group,\n",
    "#                         f2,\n",
    "#                         f2_group,\n",
    "#                         f3,\n",
    "#                         f3_group):\n",
    "#     def make_unique_region_id(df):\n",
    "#         \"\"\"\n",
    "#         Make a unique region ID for BED regions that don't \n",
    "#         alread have unique identifiers\n",
    "#         \"\"\"\n",
    "#         df['region_id'] = df['group_name']+'_'+\\\n",
    "#                           df['Chromosome']+'_'+\\\n",
    "#                           df['Start'].astype(str)+'_'+\\\n",
    "#                           df['End'].astype(str)#+'_'+\\\n",
    "#                           #df['Strand'].astype(str)\n",
    "#         return df\n",
    "    \n",
    "#     def read_beds(files, name):\n",
    "#         df = pd.DataFrame()\n",
    "#         for f in files:\n",
    "#             temp = pd.read_csv(f, sep='\\t')\n",
    "#             df = pd.concat([df, temp], axis=0)\n",
    "            \n",
    "#             # retain just the identifying characteristics \n",
    "#             # df = df[['Chromosome', 'Start', 'End', 'Strand']]\n",
    "#             df = df[['Chromosome', 'Start', 'End']]\n",
    "#         df['group_name']  = name\n",
    "#         df = make_unique_region_id(df)\n",
    "#         return df\n",
    "    \n",
    "#     def intersect_thing(a, a_name,\n",
    "#                         b, b_name,\n",
    "#                         c, c_name):\n",
    "#         a_ids = a.region_id.unique().tolist()\n",
    "#         b_ids = b.region_id.unique().tolist()\n",
    "#         c_ids = c.region_id.unique().tolist()\n",
    "        \n",
    "#         # make a-b, a-c, and b-c comparisons\n",
    "#         ab_ids = a.join(b,\n",
    "#                         how=None, # none = inner\n",
    "#                         slack=0,\n",
    "#                         suffix='_other').df.region_id.unique().tolist()\n",
    "#         ac_ids = a.join(c,\n",
    "#                         how=None, # none = inner\n",
    "#                         slack=0,\n",
    "#                         suffix='other').df.region_id.unique()\n",
    "#         bc_ids = b.join(c,\n",
    "#                 how=None, # none = inner\n",
    "#                 slack=0,\n",
    "#                 suffix='other').df.region_id.unique()\n",
    "        \n",
    "#         # a ids\n",
    "#         abc_ids = list(set(ab_ids)&set(ac_ids))\n",
    "#         ab_ids = list(set(ab_ids)-set(abc_ids))\n",
    "#         ac_ids = list(set(ac_ids)-set(abc_ids))\n",
    "#         a_ids = list(set(a_ids)-\\\n",
    "#                      set(abc_ids)-\\\n",
    "#                      set(ab_ids)-\\\n",
    "#                      set(ac_ids))\n",
    "        \n",
    "#         # b ids\n",
    "#         bc_ids = list(set(bc_ids)-set(abc_ids))\n",
    "#         b_ids = list(set(b_ids)-\\\n",
    "#                      set(abc_ids)\n",
    "        \n",
    "        \n",
    "#         # make a table\n",
    "#         ids = a_ids+ab_ids+ac_ids+abc_ids\n",
    "#         support = [a_name for i in range(len(a_ids))]\n",
    "#         support += [f'{a_name},{b_name}' for i in range(len(ab_ids))]\n",
    "#         support += [f'{a_name},{c_name}' for i in range(len(ac_ids))]\n",
    "#         support += [f'{a_name},{b_name},{c_name}' for i in range(len(abc_ids))]\n",
    "#         df = pd.DataFrame()\n",
    "#         df['region_id'] = ids\n",
    "#         df['support'] = support\n",
    "#         return df\n",
    "    \n",
    "#     # read in beds\n",
    "#     f1_df = read_beds(f1, \n",
    "#                       f1_group)\n",
    "#     print(len(f1_df.index))\n",
    "#     f2_df = read_beds(f2, \n",
    "#                       f2_group)\n",
    "#     f3_df = read_beds(f3,\n",
    "#                       f3_group)\n",
    "    \n",
    "#     # perform intersections: \n",
    "#     f1_pr = pr.PyRanges(f1_df)\n",
    "#     f2_pr = pr.PyRanges(f2_df)\n",
    "#     f3_pr = pr.PyRanges(f3_df)\n",
    "    \n",
    "#     # using regions from 1 as a reference\n",
    "#     df = intersect_thing(f1_pr,\n",
    "#                          f1_group,\n",
    "#                          f2_pr,\n",
    "#                          f2_group,\n",
    "#                          f3_pr, \n",
    "#                          f3_group)\n",
    "\n",
    "    \n",
    "#     return df"
   ]
  },
  {
   "cell_type": "code",
   "execution_count": 63,
   "id": "d725a135-f3a6-4c7a-b953-d324afa340a7",
   "metadata": {},
   "outputs": [
    {
     "name": "stdout",
     "output_type": "stream",
     "text": [
      "23210\n"
     ]
    }
   ],
   "source": [
    "print(len(df.index))"
   ]
  },
  {
   "cell_type": "code",
   "execution_count": null,
   "id": "875dbc66-ad12-4ac7-bfbf-c86b25306e85",
   "metadata": {},
   "outputs": [],
   "source": []
  }
 ],
 "metadata": {
  "kernelspec": {
   "display_name": "Python 3",
   "language": "python",
   "name": "python3"
  },
  "language_info": {
   "codemirror_mode": {
    "name": "ipython",
    "version": 3
   },
   "file_extension": ".py",
   "mimetype": "text/x-python",
   "name": "python",
   "nbconvert_exporter": "python",
   "pygments_lexer": "ipython3",
   "version": "3.7.12"
  }
 },
 "nbformat": 4,
 "nbformat_minor": 5
}
